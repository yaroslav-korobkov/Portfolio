{
 "cells": [
  {
   "cell_type": "markdown",
   "metadata": {},
   "source": [
    "# Первая Часть "
   ]
  },
  {
   "cell_type": "markdown",
   "metadata": {},
   "source": [
    "## Название и описание проекта"
   ]
  },
  {
   "cell_type": "markdown",
   "metadata": {},
   "source": [
    "**Название:** Телекоммуникации\n",
    "\n",
    "**Описание:** Оператор связи хочет научиться прогнозировать отток клиентов. Если выяснится, что пользователь планирует уйти, ему будут предложены промокоды и специальные условия. Команда оператора собрала персональные данные о некоторых клиентах, информацию об их тарифах и договорах.\n",
    "\n",
    "Требуется разработать прототип модели для прогнозирования оттока клиентов"
   ]
  },
  {
   "cell_type": "code",
   "execution_count": 1,
   "metadata": {},
   "outputs": [
    {
     "data": {
      "text/html": [
       "<style>.container { width:90% !important; }</style>"
      ],
      "text/plain": [
       "<IPython.core.display.HTML object>"
      ]
     },
     "execution_count": 1,
     "metadata": {},
     "output_type": "execute_result"
    }
   ],
   "source": [
    "from IPython.display import display, HTML\n",
    "HTML(\"<style>.container { width:90% !important; }</style>\")"
   ]
  },
  {
   "cell_type": "code",
   "execution_count": 2,
   "metadata": {},
   "outputs": [],
   "source": [
    "import pandas as pd\n",
    "import os\n",
    "import numpy as np\n",
    "import re \n",
    "import warnings\n",
    "import logging\n",
    "from sklearn.model_selection import train_test_split\n",
    "import optuna\n",
    "from sklearn.metrics import roc_auc_score\n",
    "from xgboost import XGBClassifier\n",
    "from lightgbm import LGBMClassifier\n",
    "from catboost import CatBoostClassifier\n",
    "from optuna.integration import OptunaSearchCV\n",
    "from sklearn.preprocessing import OneHotEncoder\n",
    "from sklearn.metrics import roc_auc_score\n",
    "import matplotlib.pyplot as plt\n",
    "from sklearn.metrics import confusion_matrix, plot_confusion_matrix\n",
    "from skimpy import clean_columns"
   ]
  },
  {
   "cell_type": "markdown",
   "metadata": {},
   "source": [
    "# Фиксация псевдослучайности"
   ]
  },
  {
   "cell_type": "code",
   "execution_count": 3,
   "metadata": {},
   "outputs": [],
   "source": [
    "np.random.seed(250923) # Фиксация псевдослучайности"
   ]
  },
  {
   "cell_type": "code",
   "execution_count": 4,
   "metadata": {},
   "outputs": [],
   "source": [
    "pd.set_option('display.max_columns', None)"
   ]
  },
  {
   "cell_type": "markdown",
   "metadata": {},
   "source": [
    "## Загрузка данных"
   ]
  },
  {
   "cell_type": "code",
   "execution_count": 5,
   "metadata": {},
   "outputs": [],
   "source": [
    "def load_data(dataset_name, cloud_url):\n",
    "\n",
    "    dataset_path = dataset_name\n",
    "\n",
    "    if os.path.exists(dataset_path):\n",
    "        df = pd.read_csv(dataset_path)\n",
    "        print(f\"Загрузка {dataset_name} прошла успешно\")\n",
    "    else:\n",
    "        try:\n",
    "            df = pd.read_csv(cloud_url)\n",
    "        except Exception as e:\n",
    "            print(f\"Не удалось загрузить данные из облака для {dataset_name}. Ошибка: {str(e)}\")\n",
    "\n",
    "    return df"
   ]
  },
  {
   "cell_type": "code",
   "execution_count": 6,
   "metadata": {},
   "outputs": [
    {
     "name": "stdout",
     "output_type": "stream",
     "text": [
      "Загрузка contract_new.csv прошла успешно\n"
     ]
    }
   ],
   "source": [
    "contract_df = load_data('contract_new.csv', 'https://code.s3.yandex.net/datasets/contract_new.csv')"
   ]
  },
  {
   "cell_type": "code",
   "execution_count": 7,
   "metadata": {},
   "outputs": [
    {
     "name": "stdout",
     "output_type": "stream",
     "text": [
      "Загрузка personal_new.csv прошла успешно\n"
     ]
    }
   ],
   "source": [
    "personal_df = load_data('personal_new.csv', 'https://code.s3.yandex.net/datasets/personal_new.csv')"
   ]
  },
  {
   "cell_type": "code",
   "execution_count": 8,
   "metadata": {},
   "outputs": [
    {
     "name": "stdout",
     "output_type": "stream",
     "text": [
      "Загрузка internet_new.csv прошла успешно\n"
     ]
    }
   ],
   "source": [
    "internet_df = load_data('internet_new.csv', 'https://code.s3.yandex.net/datasets/internet_new.csv')"
   ]
  },
  {
   "cell_type": "code",
   "execution_count": 9,
   "metadata": {},
   "outputs": [
    {
     "name": "stdout",
     "output_type": "stream",
     "text": [
      "Загрузка phone_new.csv прошла успешно\n"
     ]
    }
   ],
   "source": [
    "phone_df = load_data('phone_new.csv', 'https://code.s3.yandex.net/datasets/phone_new.csv')"
   ]
  },
  {
   "cell_type": "markdown",
   "metadata": {},
   "source": [
    "## Исследование датафреймов"
   ]
  },
  {
   "cell_type": "code",
   "execution_count": 10,
   "metadata": {},
   "outputs": [],
   "source": [
    "def explore_data(df):\n",
    "    print(\"Первые 5 строк набора данных:\")\n",
    "    display(df.head())\n",
    "    \n",
    "    print(\"\\nИнформация о наборе данных:\")\n",
    "    display(df.info())\n",
    "    \n",
    "    print(\"\\nСтатистические характеристики числовых столбцов:\")\n",
    "    display(df.describe(include='all').T)\n",
    "    \n",
    "    print(\"\\nЧисло уникальных значений в каждом столбце:\")\n",
    "    for column in df.columns:\n",
    "        unique_values = df[column].unique()\n",
    "        num_unique_values = len(unique_values)\n",
    "        print(f\"Столбец '{column}' содержит {num_unique_values} уникальных значений.\")\n",
    "        print()\n",
    "    \n",
    "    print(\"\\nЧисло значений по категориям в каждом столбце:\")\n",
    "    for column in df.columns:\n",
    "        if df[column].dtype == 'object':\n",
    "            value_counts = df[column].value_counts()\n",
    "            print(f\"Столбец '{column}':\")\n",
    "            print(value_counts)\n",
    "            print()\n",
    "            \n",
    "    if not df.select_dtypes(include=['number']).empty:\n",
    "            print(\"\\nГистограммы всех числовых столбцов:\")\n",
    "            df.hist(figsize=(10, 15))\n",
    "    else:\n",
    "        print(f\"В данном df нету числовых столбцов\")"
   ]
  },
  {
   "cell_type": "code",
   "execution_count": 11,
   "metadata": {
    "scrolled": true
   },
   "outputs": [
    {
     "name": "stdout",
     "output_type": "stream",
     "text": [
      "Первые 5 строк набора данных:\n"
     ]
    },
    {
     "data": {
      "text/html": [
       "<div>\n",
       "<style scoped>\n",
       "    .dataframe tbody tr th:only-of-type {\n",
       "        vertical-align: middle;\n",
       "    }\n",
       "\n",
       "    .dataframe tbody tr th {\n",
       "        vertical-align: top;\n",
       "    }\n",
       "\n",
       "    .dataframe thead th {\n",
       "        text-align: right;\n",
       "    }\n",
       "</style>\n",
       "<table border=\"1\" class=\"dataframe\">\n",
       "  <thead>\n",
       "    <tr style=\"text-align: right;\">\n",
       "      <th></th>\n",
       "      <th>customerID</th>\n",
       "      <th>BeginDate</th>\n",
       "      <th>EndDate</th>\n",
       "      <th>Type</th>\n",
       "      <th>PaperlessBilling</th>\n",
       "      <th>PaymentMethod</th>\n",
       "      <th>MonthlyCharges</th>\n",
       "      <th>TotalCharges</th>\n",
       "    </tr>\n",
       "  </thead>\n",
       "  <tbody>\n",
       "    <tr>\n",
       "      <th>0</th>\n",
       "      <td>7590-VHVEG</td>\n",
       "      <td>2020-01-01</td>\n",
       "      <td>No</td>\n",
       "      <td>Month-to-month</td>\n",
       "      <td>Yes</td>\n",
       "      <td>Electronic check</td>\n",
       "      <td>29.85</td>\n",
       "      <td>31.04</td>\n",
       "    </tr>\n",
       "    <tr>\n",
       "      <th>1</th>\n",
       "      <td>5575-GNVDE</td>\n",
       "      <td>2017-04-01</td>\n",
       "      <td>No</td>\n",
       "      <td>One year</td>\n",
       "      <td>No</td>\n",
       "      <td>Mailed check</td>\n",
       "      <td>56.95</td>\n",
       "      <td>2071.84</td>\n",
       "    </tr>\n",
       "    <tr>\n",
       "      <th>2</th>\n",
       "      <td>3668-QPYBK</td>\n",
       "      <td>2019-10-01</td>\n",
       "      <td>No</td>\n",
       "      <td>Month-to-month</td>\n",
       "      <td>Yes</td>\n",
       "      <td>Mailed check</td>\n",
       "      <td>53.85</td>\n",
       "      <td>226.17</td>\n",
       "    </tr>\n",
       "    <tr>\n",
       "      <th>3</th>\n",
       "      <td>7795-CFOCW</td>\n",
       "      <td>2016-05-01</td>\n",
       "      <td>No</td>\n",
       "      <td>One year</td>\n",
       "      <td>No</td>\n",
       "      <td>Bank transfer (automatic)</td>\n",
       "      <td>42.30</td>\n",
       "      <td>1960.6</td>\n",
       "    </tr>\n",
       "    <tr>\n",
       "      <th>4</th>\n",
       "      <td>9237-HQITU</td>\n",
       "      <td>2019-09-01</td>\n",
       "      <td>No</td>\n",
       "      <td>Month-to-month</td>\n",
       "      <td>Yes</td>\n",
       "      <td>Electronic check</td>\n",
       "      <td>70.70</td>\n",
       "      <td>353.5</td>\n",
       "    </tr>\n",
       "  </tbody>\n",
       "</table>\n",
       "</div>"
      ],
      "text/plain": [
       "   customerID   BeginDate EndDate            Type PaperlessBilling  \\\n",
       "0  7590-VHVEG  2020-01-01      No  Month-to-month              Yes   \n",
       "1  5575-GNVDE  2017-04-01      No        One year               No   \n",
       "2  3668-QPYBK  2019-10-01      No  Month-to-month              Yes   \n",
       "3  7795-CFOCW  2016-05-01      No        One year               No   \n",
       "4  9237-HQITU  2019-09-01      No  Month-to-month              Yes   \n",
       "\n",
       "               PaymentMethod  MonthlyCharges TotalCharges  \n",
       "0           Electronic check           29.85        31.04  \n",
       "1               Mailed check           56.95      2071.84  \n",
       "2               Mailed check           53.85       226.17  \n",
       "3  Bank transfer (automatic)           42.30       1960.6  \n",
       "4           Electronic check           70.70        353.5  "
      ]
     },
     "metadata": {},
     "output_type": "display_data"
    },
    {
     "name": "stdout",
     "output_type": "stream",
     "text": [
      "\n",
      "Информация о наборе данных:\n",
      "<class 'pandas.core.frame.DataFrame'>\n",
      "RangeIndex: 7043 entries, 0 to 7042\n",
      "Data columns (total 8 columns):\n",
      " #   Column            Non-Null Count  Dtype  \n",
      "---  ------            --------------  -----  \n",
      " 0   customerID        7043 non-null   object \n",
      " 1   BeginDate         7043 non-null   object \n",
      " 2   EndDate           7043 non-null   object \n",
      " 3   Type              7043 non-null   object \n",
      " 4   PaperlessBilling  7043 non-null   object \n",
      " 5   PaymentMethod     7043 non-null   object \n",
      " 6   MonthlyCharges    7043 non-null   float64\n",
      " 7   TotalCharges      7043 non-null   object \n",
      "dtypes: float64(1), object(7)\n",
      "memory usage: 440.3+ KB\n"
     ]
    },
    {
     "data": {
      "text/plain": [
       "None"
      ]
     },
     "metadata": {},
     "output_type": "display_data"
    },
    {
     "name": "stdout",
     "output_type": "stream",
     "text": [
      "\n",
      "Статистические характеристики числовых столбцов:\n"
     ]
    },
    {
     "data": {
      "text/html": [
       "<div>\n",
       "<style scoped>\n",
       "    .dataframe tbody tr th:only-of-type {\n",
       "        vertical-align: middle;\n",
       "    }\n",
       "\n",
       "    .dataframe tbody tr th {\n",
       "        vertical-align: top;\n",
       "    }\n",
       "\n",
       "    .dataframe thead th {\n",
       "        text-align: right;\n",
       "    }\n",
       "</style>\n",
       "<table border=\"1\" class=\"dataframe\">\n",
       "  <thead>\n",
       "    <tr style=\"text-align: right;\">\n",
       "      <th></th>\n",
       "      <th>count</th>\n",
       "      <th>unique</th>\n",
       "      <th>top</th>\n",
       "      <th>freq</th>\n",
       "      <th>mean</th>\n",
       "      <th>std</th>\n",
       "      <th>min</th>\n",
       "      <th>25%</th>\n",
       "      <th>50%</th>\n",
       "      <th>75%</th>\n",
       "      <th>max</th>\n",
       "    </tr>\n",
       "  </thead>\n",
       "  <tbody>\n",
       "    <tr>\n",
       "      <th>customerID</th>\n",
       "      <td>7043</td>\n",
       "      <td>7043</td>\n",
       "      <td>7590-VHVEG</td>\n",
       "      <td>1</td>\n",
       "      <td>NaN</td>\n",
       "      <td>NaN</td>\n",
       "      <td>NaN</td>\n",
       "      <td>NaN</td>\n",
       "      <td>NaN</td>\n",
       "      <td>NaN</td>\n",
       "      <td>NaN</td>\n",
       "    </tr>\n",
       "    <tr>\n",
       "      <th>BeginDate</th>\n",
       "      <td>7043</td>\n",
       "      <td>77</td>\n",
       "      <td>2014-02-01</td>\n",
       "      <td>366</td>\n",
       "      <td>NaN</td>\n",
       "      <td>NaN</td>\n",
       "      <td>NaN</td>\n",
       "      <td>NaN</td>\n",
       "      <td>NaN</td>\n",
       "      <td>NaN</td>\n",
       "      <td>NaN</td>\n",
       "    </tr>\n",
       "    <tr>\n",
       "      <th>EndDate</th>\n",
       "      <td>7043</td>\n",
       "      <td>67</td>\n",
       "      <td>No</td>\n",
       "      <td>5942</td>\n",
       "      <td>NaN</td>\n",
       "      <td>NaN</td>\n",
       "      <td>NaN</td>\n",
       "      <td>NaN</td>\n",
       "      <td>NaN</td>\n",
       "      <td>NaN</td>\n",
       "      <td>NaN</td>\n",
       "    </tr>\n",
       "    <tr>\n",
       "      <th>Type</th>\n",
       "      <td>7043</td>\n",
       "      <td>3</td>\n",
       "      <td>Month-to-month</td>\n",
       "      <td>3875</td>\n",
       "      <td>NaN</td>\n",
       "      <td>NaN</td>\n",
       "      <td>NaN</td>\n",
       "      <td>NaN</td>\n",
       "      <td>NaN</td>\n",
       "      <td>NaN</td>\n",
       "      <td>NaN</td>\n",
       "    </tr>\n",
       "    <tr>\n",
       "      <th>PaperlessBilling</th>\n",
       "      <td>7043</td>\n",
       "      <td>2</td>\n",
       "      <td>Yes</td>\n",
       "      <td>4171</td>\n",
       "      <td>NaN</td>\n",
       "      <td>NaN</td>\n",
       "      <td>NaN</td>\n",
       "      <td>NaN</td>\n",
       "      <td>NaN</td>\n",
       "      <td>NaN</td>\n",
       "      <td>NaN</td>\n",
       "    </tr>\n",
       "    <tr>\n",
       "      <th>PaymentMethod</th>\n",
       "      <td>7043</td>\n",
       "      <td>4</td>\n",
       "      <td>Electronic check</td>\n",
       "      <td>2365</td>\n",
       "      <td>NaN</td>\n",
       "      <td>NaN</td>\n",
       "      <td>NaN</td>\n",
       "      <td>NaN</td>\n",
       "      <td>NaN</td>\n",
       "      <td>NaN</td>\n",
       "      <td>NaN</td>\n",
       "    </tr>\n",
       "    <tr>\n",
       "      <th>MonthlyCharges</th>\n",
       "      <td>7043.0</td>\n",
       "      <td>NaN</td>\n",
       "      <td>NaN</td>\n",
       "      <td>NaN</td>\n",
       "      <td>64.761692</td>\n",
       "      <td>30.090047</td>\n",
       "      <td>18.25</td>\n",
       "      <td>35.5</td>\n",
       "      <td>70.35</td>\n",
       "      <td>89.85</td>\n",
       "      <td>118.75</td>\n",
       "    </tr>\n",
       "    <tr>\n",
       "      <th>TotalCharges</th>\n",
       "      <td>7043</td>\n",
       "      <td>6658</td>\n",
       "      <td></td>\n",
       "      <td>11</td>\n",
       "      <td>NaN</td>\n",
       "      <td>NaN</td>\n",
       "      <td>NaN</td>\n",
       "      <td>NaN</td>\n",
       "      <td>NaN</td>\n",
       "      <td>NaN</td>\n",
       "      <td>NaN</td>\n",
       "    </tr>\n",
       "  </tbody>\n",
       "</table>\n",
       "</div>"
      ],
      "text/plain": [
       "                   count unique               top  freq       mean        std  \\\n",
       "customerID          7043   7043        7590-VHVEG     1        NaN        NaN   \n",
       "BeginDate           7043     77        2014-02-01   366        NaN        NaN   \n",
       "EndDate             7043     67                No  5942        NaN        NaN   \n",
       "Type                7043      3    Month-to-month  3875        NaN        NaN   \n",
       "PaperlessBilling    7043      2               Yes  4171        NaN        NaN   \n",
       "PaymentMethod       7043      4  Electronic check  2365        NaN        NaN   \n",
       "MonthlyCharges    7043.0    NaN               NaN   NaN  64.761692  30.090047   \n",
       "TotalCharges        7043   6658                      11        NaN        NaN   \n",
       "\n",
       "                    min   25%    50%    75%     max  \n",
       "customerID          NaN   NaN    NaN    NaN     NaN  \n",
       "BeginDate           NaN   NaN    NaN    NaN     NaN  \n",
       "EndDate             NaN   NaN    NaN    NaN     NaN  \n",
       "Type                NaN   NaN    NaN    NaN     NaN  \n",
       "PaperlessBilling    NaN   NaN    NaN    NaN     NaN  \n",
       "PaymentMethod       NaN   NaN    NaN    NaN     NaN  \n",
       "MonthlyCharges    18.25  35.5  70.35  89.85  118.75  \n",
       "TotalCharges        NaN   NaN    NaN    NaN     NaN  "
      ]
     },
     "metadata": {},
     "output_type": "display_data"
    },
    {
     "name": "stdout",
     "output_type": "stream",
     "text": [
      "\n",
      "Число уникальных значений в каждом столбце:\n",
      "Столбец 'customerID' содержит 7043 уникальных значений.\n",
      "\n",
      "Столбец 'BeginDate' содержит 77 уникальных значений.\n",
      "\n",
      "Столбец 'EndDate' содержит 67 уникальных значений.\n",
      "\n",
      "Столбец 'Type' содержит 3 уникальных значений.\n",
      "\n",
      "Столбец 'PaperlessBilling' содержит 2 уникальных значений.\n",
      "\n",
      "Столбец 'PaymentMethod' содержит 4 уникальных значений.\n",
      "\n",
      "Столбец 'MonthlyCharges' содержит 1585 уникальных значений.\n",
      "\n",
      "Столбец 'TotalCharges' содержит 6658 уникальных значений.\n",
      "\n",
      "\n",
      "Число значений по категориям в каждом столбце:\n",
      "Столбец 'customerID':\n",
      "customerID\n",
      "7590-VHVEG    1\n",
      "3791-LGQCY    1\n",
      "6008-NAIXK    1\n",
      "5956-YHHRX    1\n",
      "5365-LLFYV    1\n",
      "             ..\n",
      "9796-MVYXX    1\n",
      "2637-FKFSY    1\n",
      "1552-AAGRX    1\n",
      "4304-TSPVK    1\n",
      "3186-AJIEK    1\n",
      "Name: count, Length: 7043, dtype: int64\n",
      "\n",
      "Столбец 'BeginDate':\n",
      "BeginDate\n",
      "2014-02-01    366\n",
      "2019-10-01    237\n",
      "2019-11-01    237\n",
      "2019-09-01    237\n",
      "2020-01-01    233\n",
      "             ... \n",
      "2020-02-01     11\n",
      "2014-01-01      7\n",
      "2013-10-01      3\n",
      "2013-12-01      3\n",
      "2013-11-01      2\n",
      "Name: count, Length: 77, dtype: int64\n",
      "\n",
      "Столбец 'EndDate':\n",
      "EndDate\n",
      "No            5942\n",
      "2020-01-01      39\n",
      "2019-12-01      38\n",
      "2018-11-01      35\n",
      "2019-09-01      32\n",
      "              ... \n",
      "2014-09-01       2\n",
      "2014-12-01       2\n",
      "2014-06-01       1\n",
      "2014-10-01       1\n",
      "2014-11-01       1\n",
      "Name: count, Length: 67, dtype: int64\n",
      "\n",
      "Столбец 'Type':\n",
      "Type\n",
      "Month-to-month    3875\n",
      "Two year          1695\n",
      "One year          1473\n",
      "Name: count, dtype: int64\n",
      "\n",
      "Столбец 'PaperlessBilling':\n",
      "PaperlessBilling\n",
      "Yes    4171\n",
      "No     2872\n",
      "Name: count, dtype: int64\n",
      "\n",
      "Столбец 'PaymentMethod':\n",
      "PaymentMethod\n",
      "Electronic check             2365\n",
      "Mailed check                 1612\n",
      "Bank transfer (automatic)    1544\n",
      "Credit card (automatic)      1522\n",
      "Name: count, dtype: int64\n",
      "\n",
      "Столбец 'TotalCharges':\n",
      "TotalCharges\n",
      "           11\n",
      "20.45       6\n",
      "101.0       5\n",
      "21.53       4\n",
      "40.1        4\n",
      "           ..\n",
      "4357.5      1\n",
      "3509.55     1\n",
      "2530.8      1\n",
      "2599.1      1\n",
      "7251.82     1\n",
      "Name: count, Length: 6658, dtype: int64\n",
      "\n",
      "\n",
      "Гистограммы всех числовых столбцов:\n"
     ]
    },
    {
     "data": {
      "image/png": "[encoded data removed]",
      "text/plain": [
       "<Figure size 1000x1500 with 1 Axes>"
      ]
     },
     "metadata": {},
     "output_type": "display_data"
    }
   ],
   "source": [
    "explore_data(contract_df)"
   ]
  },
  {
   "cell_type": "markdown",
   "metadata": {},
   "source": [
    "**Комментарий:** \n",
    "1. В датафрейме contract_df нету явных пропусков\n",
    "2. Большинство абонентов в месяц платят около 20 - 30 ед. валюты\n",
    "3. Большинство абонентов не ушло от оператора\n",
    "4. Столбец \"PaperlessBilling\" следует удалить, так как он не будет помогать моделям предсказывать целевой признак"
   ]
  },
  {
   "cell_type": "code",
   "execution_count": 12,
   "metadata": {
    "scrolled": true
   },
   "outputs": [
    {
     "name": "stdout",
     "output_type": "stream",
     "text": [
      "Первые 5 строк набора данных:\n"
     ]
    },
    {
     "data": {
      "text/html": [
       "<div>\n",
       "<style scoped>\n",
       "    .dataframe tbody tr th:only-of-type {\n",
       "        vertical-align: middle;\n",
       "    }\n",
       "\n",
       "    .dataframe tbody tr th {\n",
       "        vertical-align: top;\n",
       "    }\n",
       "\n",
       "    .dataframe thead th {\n",
       "        text-align: right;\n",
       "    }\n",
       "</style>\n",
       "<table border=\"1\" class=\"dataframe\">\n",
       "  <thead>\n",
       "    <tr style=\"text-align: right;\">\n",
       "      <th></th>\n",
       "      <th>customerID</th>\n",
       "      <th>gender</th>\n",
       "      <th>SeniorCitizen</th>\n",
       "      <th>Partner</th>\n",
       "      <th>Dependents</th>\n",
       "    </tr>\n",
       "  </thead>\n",
       "  <tbody>\n",
       "    <tr>\n",
       "      <th>0</th>\n",
       "      <td>7590-VHVEG</td>\n",
       "      <td>Female</td>\n",
       "      <td>0</td>\n",
       "      <td>Yes</td>\n",
       "      <td>No</td>\n",
       "    </tr>\n",
       "    <tr>\n",
       "      <th>1</th>\n",
       "      <td>5575-GNVDE</td>\n",
       "      <td>Male</td>\n",
       "      <td>0</td>\n",
       "      <td>No</td>\n",
       "      <td>No</td>\n",
       "    </tr>\n",
       "    <tr>\n",
       "      <th>2</th>\n",
       "      <td>3668-QPYBK</td>\n",
       "      <td>Male</td>\n",
       "      <td>0</td>\n",
       "      <td>No</td>\n",
       "      <td>No</td>\n",
       "    </tr>\n",
       "    <tr>\n",
       "      <th>3</th>\n",
       "      <td>7795-CFOCW</td>\n",
       "      <td>Male</td>\n",
       "      <td>0</td>\n",
       "      <td>No</td>\n",
       "      <td>No</td>\n",
       "    </tr>\n",
       "    <tr>\n",
       "      <th>4</th>\n",
       "      <td>9237-HQITU</td>\n",
       "      <td>Female</td>\n",
       "      <td>0</td>\n",
       "      <td>No</td>\n",
       "      <td>No</td>\n",
       "    </tr>\n",
       "  </tbody>\n",
       "</table>\n",
       "</div>"
      ],
      "text/plain": [
       "   customerID  gender  SeniorCitizen Partner Dependents\n",
       "0  7590-VHVEG  Female              0     Yes         No\n",
       "1  5575-GNVDE    Male              0      No         No\n",
       "2  3668-QPYBK    Male              0      No         No\n",
       "3  7795-CFOCW    Male              0      No         No\n",
       "4  9237-HQITU  Female              0      No         No"
      ]
     },
     "metadata": {},
     "output_type": "display_data"
    },
    {
     "name": "stdout",
     "output_type": "stream",
     "text": [
      "\n",
      "Информация о наборе данных:\n",
      "<class 'pandas.core.frame.DataFrame'>\n",
      "RangeIndex: 7043 entries, 0 to 7042\n",
      "Data columns (total 5 columns):\n",
      " #   Column         Non-Null Count  Dtype \n",
      "---  ------         --------------  ----- \n",
      " 0   customerID     7043 non-null   object\n",
      " 1   gender         7043 non-null   object\n",
      " 2   SeniorCitizen  7043 non-null   int64 \n",
      " 3   Partner        7043 non-null   object\n",
      " 4   Dependents     7043 non-null   object\n",
      "dtypes: int64(1), object(4)\n",
      "memory usage: 275.2+ KB\n"
     ]
    },
    {
     "data": {
      "text/plain": [
       "None"
      ]
     },
     "metadata": {},
     "output_type": "display_data"
    },
    {
     "name": "stdout",
     "output_type": "stream",
     "text": [
      "\n",
      "Статистические характеристики числовых столбцов:\n"
     ]
    },
    {
     "data": {
      "text/html": [
       "<div>\n",
       "<style scoped>\n",
       "    .dataframe tbody tr th:only-of-type {\n",
       "        vertical-align: middle;\n",
       "    }\n",
       "\n",
       "    .dataframe tbody tr th {\n",
       "        vertical-align: top;\n",
       "    }\n",
       "\n",
       "    .dataframe thead th {\n",
       "        text-align: right;\n",
       "    }\n",
       "</style>\n",
       "<table border=\"1\" class=\"dataframe\">\n",
       "  <thead>\n",
       "    <tr style=\"text-align: right;\">\n",
       "      <th></th>\n",
       "      <th>count</th>\n",
       "      <th>unique</th>\n",
       "      <th>top</th>\n",
       "      <th>freq</th>\n",
       "      <th>mean</th>\n",
       "      <th>std</th>\n",
       "      <th>min</th>\n",
       "      <th>25%</th>\n",
       "      <th>50%</th>\n",
       "      <th>75%</th>\n",
       "      <th>max</th>\n",
       "    </tr>\n",
       "  </thead>\n",
       "  <tbody>\n",
       "    <tr>\n",
       "      <th>customerID</th>\n",
       "      <td>7043</td>\n",
       "      <td>7043</td>\n",
       "      <td>7590-VHVEG</td>\n",
       "      <td>1</td>\n",
       "      <td>NaN</td>\n",
       "      <td>NaN</td>\n",
       "      <td>NaN</td>\n",
       "      <td>NaN</td>\n",
       "      <td>NaN</td>\n",
       "      <td>NaN</td>\n",
       "      <td>NaN</td>\n",
       "    </tr>\n",
       "    <tr>\n",
       "      <th>gender</th>\n",
       "      <td>7043</td>\n",
       "      <td>2</td>\n",
       "      <td>Male</td>\n",
       "      <td>3555</td>\n",
       "      <td>NaN</td>\n",
       "      <td>NaN</td>\n",
       "      <td>NaN</td>\n",
       "      <td>NaN</td>\n",
       "      <td>NaN</td>\n",
       "      <td>NaN</td>\n",
       "      <td>NaN</td>\n",
       "    </tr>\n",
       "    <tr>\n",
       "      <th>SeniorCitizen</th>\n",
       "      <td>7043.0</td>\n",
       "      <td>NaN</td>\n",
       "      <td>NaN</td>\n",
       "      <td>NaN</td>\n",
       "      <td>0.162147</td>\n",
       "      <td>0.368612</td>\n",
       "      <td>0.0</td>\n",
       "      <td>0.0</td>\n",
       "      <td>0.0</td>\n",
       "      <td>0.0</td>\n",
       "      <td>1.0</td>\n",
       "    </tr>\n",
       "    <tr>\n",
       "      <th>Partner</th>\n",
       "      <td>7043</td>\n",
       "      <td>2</td>\n",
       "      <td>No</td>\n",
       "      <td>3641</td>\n",
       "      <td>NaN</td>\n",
       "      <td>NaN</td>\n",
       "      <td>NaN</td>\n",
       "      <td>NaN</td>\n",
       "      <td>NaN</td>\n",
       "      <td>NaN</td>\n",
       "      <td>NaN</td>\n",
       "    </tr>\n",
       "    <tr>\n",
       "      <th>Dependents</th>\n",
       "      <td>7043</td>\n",
       "      <td>2</td>\n",
       "      <td>No</td>\n",
       "      <td>4933</td>\n",
       "      <td>NaN</td>\n",
       "      <td>NaN</td>\n",
       "      <td>NaN</td>\n",
       "      <td>NaN</td>\n",
       "      <td>NaN</td>\n",
       "      <td>NaN</td>\n",
       "      <td>NaN</td>\n",
       "    </tr>\n",
       "  </tbody>\n",
       "</table>\n",
       "</div>"
      ],
      "text/plain": [
       "                count unique         top  freq      mean       std  min  25%  \\\n",
       "customerID       7043   7043  7590-VHVEG     1       NaN       NaN  NaN  NaN   \n",
       "gender           7043      2        Male  3555       NaN       NaN  NaN  NaN   \n",
       "SeniorCitizen  7043.0    NaN         NaN   NaN  0.162147  0.368612  0.0  0.0   \n",
       "Partner          7043      2          No  3641       NaN       NaN  NaN  NaN   \n",
       "Dependents       7043      2          No  4933       NaN       NaN  NaN  NaN   \n",
       "\n",
       "               50%  75%  max  \n",
       "customerID     NaN  NaN  NaN  \n",
       "gender         NaN  NaN  NaN  \n",
       "SeniorCitizen  0.0  0.0  1.0  \n",
       "Partner        NaN  NaN  NaN  \n",
       "Dependents     NaN  NaN  NaN  "
      ]
     },
     "metadata": {},
     "output_type": "display_data"
    },
    {
     "name": "stdout",
     "output_type": "stream",
     "text": [
      "\n",
      "Число уникальных значений в каждом столбце:\n",
      "Столбец 'customerID' содержит 7043 уникальных значений.\n",
      "\n",
      "Столбец 'gender' содержит 2 уникальных значений.\n",
      "\n",
      "Столбец 'SeniorCitizen' содержит 2 уникальных значений.\n",
      "\n",
      "Столбец 'Partner' содержит 2 уникальных значений.\n",
      "\n",
      "Столбец 'Dependents' содержит 2 уникальных значений.\n",
      "\n",
      "\n",
      "Число значений по категориям в каждом столбце:\n",
      "Столбец 'customerID':\n",
      "customerID\n",
      "7590-VHVEG    1\n",
      "3791-LGQCY    1\n",
      "6008-NAIXK    1\n",
      "5956-YHHRX    1\n",
      "5365-LLFYV    1\n",
      "             ..\n",
      "9796-MVYXX    1\n",
      "2637-FKFSY    1\n",
      "1552-AAGRX    1\n",
      "4304-TSPVK    1\n",
      "3186-AJIEK    1\n",
      "Name: count, Length: 7043, dtype: int64\n",
      "\n",
      "Столбец 'gender':\n",
      "gender\n",
      "Male      3555\n",
      "Female    3488\n",
      "Name: count, dtype: int64\n",
      "\n",
      "Столбец 'Partner':\n",
      "Partner\n",
      "No     3641\n",
      "Yes    3402\n",
      "Name: count, dtype: int64\n",
      "\n",
      "Столбец 'Dependents':\n",
      "Dependents\n",
      "No     4933\n",
      "Yes    2110\n",
      "Name: count, dtype: int64\n",
      "\n",
      "\n",
      "Гистограммы всех числовых столбцов:\n"
     ]
    },
    {
     "data": {
      "image/png": "[encoded data removed]",
      "text/plain": [
       "<Figure size 1000x1500 with 1 Axes>"
      ]
     },
     "metadata": {},
     "output_type": "display_data"
    }
   ],
   "source": [
    "explore_data(personal_df)"
   ]
  },
  {
   "cell_type": "markdown",
   "metadata": {},
   "source": [
    "**Комментарий:**\n",
    "1. В датафрейме personal_df нету явных пропусков\n",
    "2. Большинство абонентов - молодые люди\n",
    "3. Большинство абонентов не являются иждивенцами\n",
    "4. Столбец \"gender\" следует удалить, так как он не будет помогать моделям предсказывать целевой признак"
   ]
  },
  {
   "cell_type": "code",
   "execution_count": 13,
   "metadata": {
    "scrolled": true
   },
   "outputs": [
    {
     "name": "stdout",
     "output_type": "stream",
     "text": [
      "Первые 5 строк набора данных:\n"
     ]
    },
    {
     "data": {
      "text/html": [
       "<div>\n",
       "<style scoped>\n",
       "    .dataframe tbody tr th:only-of-type {\n",
       "        vertical-align: middle;\n",
       "    }\n",
       "\n",
       "    .dataframe tbody tr th {\n",
       "        vertical-align: top;\n",
       "    }\n",
       "\n",
       "    .dataframe thead th {\n",
       "        text-align: right;\n",
       "    }\n",
       "</style>\n",
       "<table border=\"1\" class=\"dataframe\">\n",
       "  <thead>\n",
       "    <tr style=\"text-align: right;\">\n",
       "      <th></th>\n",
       "      <th>customerID</th>\n",
       "      <th>InternetService</th>\n",
       "      <th>OnlineSecurity</th>\n",
       "      <th>OnlineBackup</th>\n",
       "      <th>DeviceProtection</th>\n",
       "      <th>TechSupport</th>\n",
       "      <th>StreamingTV</th>\n",
       "      <th>StreamingMovies</th>\n",
       "    </tr>\n",
       "  </thead>\n",
       "  <tbody>\n",
       "    <tr>\n",
       "      <th>0</th>\n",
       "      <td>7590-VHVEG</td>\n",
       "      <td>DSL</td>\n",
       "      <td>No</td>\n",
       "      <td>Yes</td>\n",
       "      <td>No</td>\n",
       "      <td>No</td>\n",
       "      <td>No</td>\n",
       "      <td>No</td>\n",
       "    </tr>\n",
       "    <tr>\n",
       "      <th>1</th>\n",
       "      <td>5575-GNVDE</td>\n",
       "      <td>DSL</td>\n",
       "      <td>Yes</td>\n",
       "      <td>No</td>\n",
       "      <td>Yes</td>\n",
       "      <td>No</td>\n",
       "      <td>No</td>\n",
       "      <td>No</td>\n",
       "    </tr>\n",
       "    <tr>\n",
       "      <th>2</th>\n",
       "      <td>3668-QPYBK</td>\n",
       "      <td>DSL</td>\n",
       "      <td>Yes</td>\n",
       "      <td>Yes</td>\n",
       "      <td>No</td>\n",
       "      <td>No</td>\n",
       "      <td>No</td>\n",
       "      <td>No</td>\n",
       "    </tr>\n",
       "    <tr>\n",
       "      <th>3</th>\n",
       "      <td>7795-CFOCW</td>\n",
       "      <td>DSL</td>\n",
       "      <td>Yes</td>\n",
       "      <td>No</td>\n",
       "      <td>Yes</td>\n",
       "      <td>Yes</td>\n",
       "      <td>No</td>\n",
       "      <td>No</td>\n",
       "    </tr>\n",
       "    <tr>\n",
       "      <th>4</th>\n",
       "      <td>9237-HQITU</td>\n",
       "      <td>Fiber optic</td>\n",
       "      <td>No</td>\n",
       "      <td>No</td>\n",
       "      <td>No</td>\n",
       "      <td>No</td>\n",
       "      <td>No</td>\n",
       "      <td>No</td>\n",
       "    </tr>\n",
       "  </tbody>\n",
       "</table>\n",
       "</div>"
      ],
      "text/plain": [
       "   customerID InternetService OnlineSecurity OnlineBackup DeviceProtection  \\\n",
       "0  7590-VHVEG             DSL             No          Yes               No   \n",
       "1  5575-GNVDE             DSL            Yes           No              Yes   \n",
       "2  3668-QPYBK             DSL            Yes          Yes               No   \n",
       "3  7795-CFOCW             DSL            Yes           No              Yes   \n",
       "4  9237-HQITU     Fiber optic             No           No               No   \n",
       "\n",
       "  TechSupport StreamingTV StreamingMovies  \n",
       "0          No          No              No  \n",
       "1          No          No              No  \n",
       "2          No          No              No  \n",
       "3         Yes          No              No  \n",
       "4          No          No              No  "
      ]
     },
     "metadata": {},
     "output_type": "display_data"
    },
    {
     "name": "stdout",
     "output_type": "stream",
     "text": [
      "\n",
      "Информация о наборе данных:\n",
      "<class 'pandas.core.frame.DataFrame'>\n",
      "RangeIndex: 5517 entries, 0 to 5516\n",
      "Data columns (total 8 columns):\n",
      " #   Column            Non-Null Count  Dtype \n",
      "---  ------            --------------  ----- \n",
      " 0   customerID        5517 non-null   object\n",
      " 1   InternetService   5517 non-null   object\n",
      " 2   OnlineSecurity    5517 non-null   object\n",
      " 3   OnlineBackup      5517 non-null   object\n",
      " 4   DeviceProtection  5517 non-null   object\n",
      " 5   TechSupport       5517 non-null   object\n",
      " 6   StreamingTV       5517 non-null   object\n",
      " 7   StreamingMovies   5517 non-null   object\n",
      "dtypes: object(8)\n",
      "memory usage: 344.9+ KB\n"
     ]
    },
    {
     "data": {
      "text/plain": [
       "None"
      ]
     },
     "metadata": {},
     "output_type": "display_data"
    },
    {
     "name": "stdout",
     "output_type": "stream",
     "text": [
      "\n",
      "Статистические характеристики числовых столбцов:\n"
     ]
    },
    {
     "data": {
      "text/html": [
       "<div>\n",
       "<style scoped>\n",
       "    .dataframe tbody tr th:only-of-type {\n",
       "        vertical-align: middle;\n",
       "    }\n",
       "\n",
       "    .dataframe tbody tr th {\n",
       "        vertical-align: top;\n",
       "    }\n",
       "\n",
       "    .dataframe thead th {\n",
       "        text-align: right;\n",
       "    }\n",
       "</style>\n",
       "<table border=\"1\" class=\"dataframe\">\n",
       "  <thead>\n",
       "    <tr style=\"text-align: right;\">\n",
       "      <th></th>\n",
       "      <th>count</th>\n",
       "      <th>unique</th>\n",
       "      <th>top</th>\n",
       "      <th>freq</th>\n",
       "    </tr>\n",
       "  </thead>\n",
       "  <tbody>\n",
       "    <tr>\n",
       "      <th>customerID</th>\n",
       "      <td>5517</td>\n",
       "      <td>5517</td>\n",
       "      <td>7590-VHVEG</td>\n",
       "      <td>1</td>\n",
       "    </tr>\n",
       "    <tr>\n",
       "      <th>InternetService</th>\n",
       "      <td>5517</td>\n",
       "      <td>2</td>\n",
       "      <td>Fiber optic</td>\n",
       "      <td>3096</td>\n",
       "    </tr>\n",
       "    <tr>\n",
       "      <th>OnlineSecurity</th>\n",
       "      <td>5517</td>\n",
       "      <td>2</td>\n",
       "      <td>No</td>\n",
       "      <td>3498</td>\n",
       "    </tr>\n",
       "    <tr>\n",
       "      <th>OnlineBackup</th>\n",
       "      <td>5517</td>\n",
       "      <td>2</td>\n",
       "      <td>No</td>\n",
       "      <td>3088</td>\n",
       "    </tr>\n",
       "    <tr>\n",
       "      <th>DeviceProtection</th>\n",
       "      <td>5517</td>\n",
       "      <td>2</td>\n",
       "      <td>No</td>\n",
       "      <td>3095</td>\n",
       "    </tr>\n",
       "    <tr>\n",
       "      <th>TechSupport</th>\n",
       "      <td>5517</td>\n",
       "      <td>2</td>\n",
       "      <td>No</td>\n",
       "      <td>3473</td>\n",
       "    </tr>\n",
       "    <tr>\n",
       "      <th>StreamingTV</th>\n",
       "      <td>5517</td>\n",
       "      <td>2</td>\n",
       "      <td>No</td>\n",
       "      <td>2810</td>\n",
       "    </tr>\n",
       "    <tr>\n",
       "      <th>StreamingMovies</th>\n",
       "      <td>5517</td>\n",
       "      <td>2</td>\n",
       "      <td>No</td>\n",
       "      <td>2785</td>\n",
       "    </tr>\n",
       "  </tbody>\n",
       "</table>\n",
       "</div>"
      ],
      "text/plain": [
       "                 count unique          top  freq\n",
       "customerID        5517   5517   7590-VHVEG     1\n",
       "InternetService   5517      2  Fiber optic  3096\n",
       "OnlineSecurity    5517      2           No  3498\n",
       "OnlineBackup      5517      2           No  3088\n",
       "DeviceProtection  5517      2           No  3095\n",
       "TechSupport       5517      2           No  3473\n",
       "StreamingTV       5517      2           No  2810\n",
       "StreamingMovies   5517      2           No  2785"
      ]
     },
     "metadata": {},
     "output_type": "display_data"
    },
    {
     "name": "stdout",
     "output_type": "stream",
     "text": [
      "\n",
      "Число уникальных значений в каждом столбце:\n",
      "Столбец 'customerID' содержит 5517 уникальных значений.\n",
      "\n",
      "Столбец 'InternetService' содержит 2 уникальных значений.\n",
      "\n",
      "Столбец 'OnlineSecurity' содержит 2 уникальных значений.\n",
      "\n",
      "Столбец 'OnlineBackup' содержит 2 уникальных значений.\n",
      "\n",
      "Столбец 'DeviceProtection' содержит 2 уникальных значений.\n",
      "\n",
      "Столбец 'TechSupport' содержит 2 уникальных значений.\n",
      "\n",
      "Столбец 'StreamingTV' содержит 2 уникальных значений.\n",
      "\n",
      "Столбец 'StreamingMovies' содержит 2 уникальных значений.\n",
      "\n",
      "\n",
      "Число значений по категориям в каждом столбце:\n",
      "Столбец 'customerID':\n",
      "customerID\n",
      "7590-VHVEG    1\n",
      "5181-OABFK    1\n",
      "9356-AXGMP    1\n",
      "5176-OLSKT    1\n",
      "7508-DQAKK    1\n",
      "             ..\n",
      "1104-FEJAM    1\n",
      "2972-YDYUW    1\n",
      "4238-JSSWH    1\n",
      "0869-PAPRP    1\n",
      "3186-AJIEK    1\n",
      "Name: count, Length: 5517, dtype: int64\n",
      "\n",
      "Столбец 'InternetService':\n",
      "InternetService\n",
      "Fiber optic    3096\n",
      "DSL            2421\n",
      "Name: count, dtype: int64\n",
      "\n",
      "Столбец 'OnlineSecurity':\n",
      "OnlineSecurity\n",
      "No     3498\n",
      "Yes    2019\n",
      "Name: count, dtype: int64\n",
      "\n",
      "Столбец 'OnlineBackup':\n",
      "OnlineBackup\n",
      "No     3088\n",
      "Yes    2429\n",
      "Name: count, dtype: int64\n",
      "\n",
      "Столбец 'DeviceProtection':\n",
      "DeviceProtection\n",
      "No     3095\n",
      "Yes    2422\n",
      "Name: count, dtype: int64\n",
      "\n",
      "Столбец 'TechSupport':\n",
      "TechSupport\n",
      "No     3473\n",
      "Yes    2044\n",
      "Name: count, dtype: int64\n",
      "\n",
      "Столбец 'StreamingTV':\n",
      "StreamingTV\n",
      "No     2810\n",
      "Yes    2707\n",
      "Name: count, dtype: int64\n",
      "\n",
      "Столбец 'StreamingMovies':\n",
      "StreamingMovies\n",
      "No     2785\n",
      "Yes    2732\n",
      "Name: count, dtype: int64\n",
      "\n",
      "В данном df нету числовых столбцов\n"
     ]
    }
   ],
   "source": [
    "explore_data(internet_df)"
   ]
  },
  {
   "cell_type": "markdown",
   "metadata": {},
   "source": [
    "**Комментарий:**\n",
    "1. В датафрейме personal_df нету явных пропусков\n",
    "2. Большинство абонентов имеют подключение к интернету через оптоволоконный кабель\n",
    "3. Большинству абонентов не интересны дополнительные услуги оператора"
   ]
  },
  {
   "cell_type": "code",
   "execution_count": 14,
   "metadata": {
    "scrolled": true
   },
   "outputs": [
    {
     "name": "stdout",
     "output_type": "stream",
     "text": [
      "Первые 5 строк набора данных:\n"
     ]
    },
    {
     "data": {
      "text/html": [
       "<div>\n",
       "<style scoped>\n",
       "    .dataframe tbody tr th:only-of-type {\n",
       "        vertical-align: middle;\n",
       "    }\n",
       "\n",
       "    .dataframe tbody tr th {\n",
       "        vertical-align: top;\n",
       "    }\n",
       "\n",
       "    .dataframe thead th {\n",
       "        text-align: right;\n",
       "    }\n",
       "</style>\n",
       "<table border=\"1\" class=\"dataframe\">\n",
       "  <thead>\n",
       "    <tr style=\"text-align: right;\">\n",
       "      <th></th>\n",
       "      <th>customerID</th>\n",
       "      <th>MultipleLines</th>\n",
       "    </tr>\n",
       "  </thead>\n",
       "  <tbody>\n",
       "    <tr>\n",
       "      <th>0</th>\n",
       "      <td>5575-GNVDE</td>\n",
       "      <td>No</td>\n",
       "    </tr>\n",
       "    <tr>\n",
       "      <th>1</th>\n",
       "      <td>3668-QPYBK</td>\n",
       "      <td>No</td>\n",
       "    </tr>\n",
       "    <tr>\n",
       "      <th>2</th>\n",
       "      <td>9237-HQITU</td>\n",
       "      <td>No</td>\n",
       "    </tr>\n",
       "    <tr>\n",
       "      <th>3</th>\n",
       "      <td>9305-CDSKC</td>\n",
       "      <td>Yes</td>\n",
       "    </tr>\n",
       "    <tr>\n",
       "      <th>4</th>\n",
       "      <td>1452-KIOVK</td>\n",
       "      <td>Yes</td>\n",
       "    </tr>\n",
       "  </tbody>\n",
       "</table>\n",
       "</div>"
      ],
      "text/plain": [
       "   customerID MultipleLines\n",
       "0  5575-GNVDE            No\n",
       "1  3668-QPYBK            No\n",
       "2  9237-HQITU            No\n",
       "3  9305-CDSKC           Yes\n",
       "4  1452-KIOVK           Yes"
      ]
     },
     "metadata": {},
     "output_type": "display_data"
    },
    {
     "name": "stdout",
     "output_type": "stream",
     "text": [
      "\n",
      "Информация о наборе данных:\n",
      "<class 'pandas.core.frame.DataFrame'>\n",
      "RangeIndex: 6361 entries, 0 to 6360\n",
      "Data columns (total 2 columns):\n",
      " #   Column         Non-Null Count  Dtype \n",
      "---  ------         --------------  ----- \n",
      " 0   customerID     6361 non-null   object\n",
      " 1   MultipleLines  6361 non-null   object\n",
      "dtypes: object(2)\n",
      "memory usage: 99.5+ KB\n"
     ]
    },
    {
     "data": {
      "text/plain": [
       "None"
      ]
     },
     "metadata": {},
     "output_type": "display_data"
    },
    {
     "name": "stdout",
     "output_type": "stream",
     "text": [
      "\n",
      "Статистические характеристики числовых столбцов:\n"
     ]
    },
    {
     "data": {
      "text/html": [
       "<div>\n",
       "<style scoped>\n",
       "    .dataframe tbody tr th:only-of-type {\n",
       "        vertical-align: middle;\n",
       "    }\n",
       "\n",
       "    .dataframe tbody tr th {\n",
       "        vertical-align: top;\n",
       "    }\n",
       "\n",
       "    .dataframe thead th {\n",
       "        text-align: right;\n",
       "    }\n",
       "</style>\n",
       "<table border=\"1\" class=\"dataframe\">\n",
       "  <thead>\n",
       "    <tr style=\"text-align: right;\">\n",
       "      <th></th>\n",
       "      <th>count</th>\n",
       "      <th>unique</th>\n",
       "      <th>top</th>\n",
       "      <th>freq</th>\n",
       "    </tr>\n",
       "  </thead>\n",
       "  <tbody>\n",
       "    <tr>\n",
       "      <th>customerID</th>\n",
       "      <td>6361</td>\n",
       "      <td>6361</td>\n",
       "      <td>5575-GNVDE</td>\n",
       "      <td>1</td>\n",
       "    </tr>\n",
       "    <tr>\n",
       "      <th>MultipleLines</th>\n",
       "      <td>6361</td>\n",
       "      <td>2</td>\n",
       "      <td>No</td>\n",
       "      <td>3390</td>\n",
       "    </tr>\n",
       "  </tbody>\n",
       "</table>\n",
       "</div>"
      ],
      "text/plain": [
       "              count unique         top  freq\n",
       "customerID     6361   6361  5575-GNVDE     1\n",
       "MultipleLines  6361      2          No  3390"
      ]
     },
     "metadata": {},
     "output_type": "display_data"
    },
    {
     "name": "stdout",
     "output_type": "stream",
     "text": [
      "\n",
      "Число уникальных значений в каждом столбце:\n",
      "Столбец 'customerID' содержит 6361 уникальных значений.\n",
      "\n",
      "Столбец 'MultipleLines' содержит 2 уникальных значений.\n",
      "\n",
      "\n",
      "Число значений по категориям в каждом столбце:\n",
      "Столбец 'customerID':\n",
      "customerID\n",
      "5575-GNVDE    1\n",
      "0980-FEXWF    1\n",
      "8082-GHXOP    1\n",
      "3393-FMZPV    1\n",
      "8701-DGLVH    1\n",
      "             ..\n",
      "8197-BFWVU    1\n",
      "9154-QDGTH    1\n",
      "8499-BRXTD    1\n",
      "8552-OBVRU    1\n",
      "3186-AJIEK    1\n",
      "Name: count, Length: 6361, dtype: int64\n",
      "\n",
      "Столбец 'MultipleLines':\n",
      "MultipleLines\n",
      "No     3390\n",
      "Yes    2971\n",
      "Name: count, dtype: int64\n",
      "\n",
      "В данном df нету числовых столбцов\n"
     ]
    }
   ],
   "source": [
    "explore_data(phone_df)"
   ]
  },
  {
   "cell_type": "markdown",
   "metadata": {},
   "source": [
    "**Комментарий:**\n",
    "1. В датафрейме phone_df нету явных пропусков\n",
    "2. Большинство абонентов не имеют возможность ведения параллельных линий во время звонка"
   ]
  },
  {
   "cell_type": "markdown",
   "metadata": {},
   "source": [
    "## Вывод по 1 части проекта"
   ]
  },
  {
   "cell_type": "markdown",
   "metadata": {},
   "source": [
    "**Вывод:** На первом этапе проекта \n",
    "1. Выполнилась загрузка данных\n",
    "2. Проведенно первичное исследование данных, где: \n",
    "    * Выяснились некоторые факты о абонентах оператора\n",
    "    * Во всех датафреймах нету пропусков\n",
    "    * Некоторые столбцы стоит удалить, так как они не помогут моделям лучше предсказывать, а только увеличат длительность их обучения и предсказания\n",
    "    * Названия столбцов нужно привести к нижнему (\"змеиному\") регистру, так как:\n",
    "\n",
    "         Единообразие и согласованность: Приведение названий столбцов к нижнему регистру позволяет обеспечить единообразие в структуре данных и согласованность в их написании. Все столбцы в нижнем регистре выглядят более однородно и легче воспринимаются.\n",
    "\n",
    "         Удобство использования: Использование названий столбцов в нижнем регистре упрощает работу с данными, особенно при доступе к столбцам через атрибуты датафрейма. В случае, когда регистр букв может варьироваться, это может привести к нежелательным ошибкам при обращении к столбцам.\n",
    "\n",
    "         Совместимость с различными системами и инструментами: Многие базы данных и инструменты для анализа данных регистронезависимы при обращении к названиям столбцов. Однако, некоторые системы или инструменты могут предпочитать или требовать названия столбцов в нижнем регистре. Поэтому, приведение к нижнему регистру может обеспечить лучшую совместимость и избежать возможных проблем."
   ]
  },
  {
   "cell_type": "markdown",
   "metadata": {},
   "source": [
    "## Дальнейший план работы"
   ]
  },
  {
   "cell_type": "markdown",
   "metadata": {},
   "source": [
    "1) Планируется приступить к выполению 2 части проекта, а именно:\n",
    "   * Предобработка данных (обработка дубликатов и аномалий, приведение данных к нужным типам, создание новых признаков и удаление ненужных) \n",
    "   * Объединение всех датафреймов в один\n",
    "   * Разделение данных на тестовую и тренировочную выборки\n",
    "   * Кодирование масштабирование (при необходимости)\n",
    "   * Подбор лучшей модели на кросс-валидации\n",
    "   * Проверка лучшей модели на тестовой выборке\n",
    "   * Исследование признаков лучшей модели + матрица ошибок\n",
    "2) После выполнения 2 части проекта планируется написание отчета"
   ]
  },
  {
   "cell_type": "markdown",
   "metadata": {},
   "source": [
    "# Вторая часть"
   ]
  },
  {
   "cell_type": "markdown",
   "metadata": {},
   "source": [
    "## Объединение всех датафреймов"
   ]
  },
  {
   "cell_type": "code",
   "execution_count": 15,
   "metadata": {},
   "outputs": [],
   "source": [
    "df = contract_df.merge(personal_df, on='customerID', how='left')\n",
    "df = df.merge(internet_df, on='customerID', how='left')\n",
    "df = df.merge(phone_df, on='customerID', how='left')"
   ]
  },
  {
   "cell_type": "code",
   "execution_count": 16,
   "metadata": {},
   "outputs": [
    {
     "name": "stdout",
     "output_type": "stream",
     "text": [
      "<class 'pandas.core.frame.DataFrame'>\n",
      "RangeIndex: 7043 entries, 0 to 7042\n",
      "Data columns (total 20 columns):\n",
      " #   Column            Non-Null Count  Dtype  \n",
      "---  ------            --------------  -----  \n",
      " 0   customerID        7043 non-null   object \n",
      " 1   BeginDate         7043 non-null   object \n",
      " 2   EndDate           7043 non-null   object \n",
      " 3   Type              7043 non-null   object \n",
      " 4   PaperlessBilling  7043 non-null   object \n",
      " 5   PaymentMethod     7043 non-null   object \n",
      " 6   MonthlyCharges    7043 non-null   float64\n",
      " 7   TotalCharges      7043 non-null   object \n",
      " 8   gender            7043 non-null   object \n",
      " 9   SeniorCitizen     7043 non-null   int64  \n",
      " 10  Partner           7043 non-null   object \n",
      " 11  Dependents        7043 non-null   object \n",
      " 12  InternetService   5517 non-null   object \n",
      " 13  OnlineSecurity    5517 non-null   object \n",
      " 14  OnlineBackup      5517 non-null   object \n",
      " 15  DeviceProtection  5517 non-null   object \n",
      " 16  TechSupport       5517 non-null   object \n",
      " 17  StreamingTV       5517 non-null   object \n",
      " 18  StreamingMovies   5517 non-null   object \n",
      " 19  MultipleLines     6361 non-null   object \n",
      "dtypes: float64(1), int64(1), object(18)\n",
      "memory usage: 1.1+ MB\n"
     ]
    }
   ],
   "source": [
    "df.info()"
   ]
  },
  {
   "cell_type": "markdown",
   "metadata": {},
   "source": [
    "## Предобработка данных"
   ]
  },
  {
   "cell_type": "markdown",
   "metadata": {},
   "source": [
    "###  Приведение названий столбцов к нижнему регистру"
   ]
  },
  {
   "cell_type": "code",
   "execution_count": 17,
   "metadata": {},
   "outputs": [
    {
     "data": {
      "text/plain": [
       "Index(['customer_id', 'begin_date', 'end_date', 'type', 'paperless_billing',\n",
       "       'payment_method', 'monthly_charges', 'total_charges', 'gender',\n",
       "       'senior_citizen', 'partner', 'dependents', 'internet_service',\n",
       "       'online_security', 'online_backup', 'device_protection', 'tech_support',\n",
       "       'streaming_tv', 'streaming_movies', 'multiple_lines'],\n",
       "      dtype='object')"
      ]
     },
     "execution_count": 17,
     "metadata": {},
     "output_type": "execute_result"
    }
   ],
   "source": [
    "df = clean_columns(df)\n",
    "df.columns"
   ]
  },
  {
   "cell_type": "markdown",
   "metadata": {},
   "source": [
    "### Приведение столбцов к нужным типам и замена значений"
   ]
  },
  {
   "cell_type": "code",
   "execution_count": 18,
   "metadata": {},
   "outputs": [
    {
     "name": "stderr",
     "output_type": "stream",
     "text": [
      "C:\\Users\\yarma\\AppData\\Local\\Temp\\ipykernel_2396\\3000657312.py:2: UserWarning: Could not infer format, so each element will be parsed individually, falling back to `dateutil`. To ensure parsing is consistent and as-expected, please specify a format.\n",
      "  df['end_date'] = pd.to_datetime(df['end_date'], errors='coerce')\n"
     ]
    },
    {
     "data": {
      "text/plain": [
       "(7043, 20)"
      ]
     },
     "execution_count": 18,
     "metadata": {},
     "output_type": "execute_result"
    }
   ],
   "source": [
    "df['begin_date'] = pd.to_datetime(df['begin_date'])\n",
    "df['end_date'] = pd.to_datetime(df['end_date'], errors='coerce')\n",
    "df['total_charges'] = pd.to_numeric(df['total_charges'], errors='coerce')\n",
    "df = df[df['begin_date'] <= pd.to_datetime('2020-02-01')] #Проверяем, нет ли в df ошибочных данных\n",
    "df.shape"
   ]
  },
  {
   "cell_type": "code",
   "execution_count": 19,
   "metadata": {},
   "outputs": [
    {
     "name": "stderr",
     "output_type": "stream",
     "text": [
      "C:\\Users\\yarma\\AppData\\Local\\Temp\\ipykernel_2396\\4026628159.py:1: FutureWarning: Downcasting behavior in `replace` is deprecated and will be removed in a future version. To retain the old behavior, explicitly call `result.infer_objects(copy=False)`. To opt-in to the future behavior, set `pd.set_option('future.no_silent_downcasting', True)`\n",
      "  df = df.replace({'yes': 1, 'Yes': 1, 'no': 0, 'No': 0, np.nan : 0})\n"
     ]
    },
    {
     "data": {
      "text/html": [
       "<div>\n",
       "<style scoped>\n",
       "    .dataframe tbody tr th:only-of-type {\n",
       "        vertical-align: middle;\n",
       "    }\n",
       "\n",
       "    .dataframe tbody tr th {\n",
       "        vertical-align: top;\n",
       "    }\n",
       "\n",
       "    .dataframe thead th {\n",
       "        text-align: right;\n",
       "    }\n",
       "</style>\n",
       "<table border=\"1\" class=\"dataframe\">\n",
       "  <thead>\n",
       "    <tr style=\"text-align: right;\">\n",
       "      <th></th>\n",
       "      <th>customer_id</th>\n",
       "      <th>begin_date</th>\n",
       "      <th>end_date</th>\n",
       "      <th>type</th>\n",
       "      <th>paperless_billing</th>\n",
       "      <th>payment_method</th>\n",
       "      <th>monthly_charges</th>\n",
       "      <th>total_charges</th>\n",
       "      <th>gender</th>\n",
       "      <th>senior_citizen</th>\n",
       "      <th>partner</th>\n",
       "      <th>dependents</th>\n",
       "      <th>internet_service</th>\n",
       "      <th>online_security</th>\n",
       "      <th>online_backup</th>\n",
       "      <th>device_protection</th>\n",
       "      <th>tech_support</th>\n",
       "      <th>streaming_tv</th>\n",
       "      <th>streaming_movies</th>\n",
       "      <th>multiple_lines</th>\n",
       "    </tr>\n",
       "  </thead>\n",
       "  <tbody>\n",
       "    <tr>\n",
       "      <th>4131</th>\n",
       "      <td>2876-VBBBL</td>\n",
       "      <td>2019-12-01</td>\n",
       "      <td>0</td>\n",
       "      <td>Month-to-month</td>\n",
       "      <td>1</td>\n",
       "      <td>Mailed check</td>\n",
       "      <td>20.25</td>\n",
       "      <td>40.5</td>\n",
       "      <td>Female</td>\n",
       "      <td>0</td>\n",
       "      <td>0</td>\n",
       "      <td>0</td>\n",
       "      <td>0</td>\n",
       "      <td>0.0</td>\n",
       "      <td>0.0</td>\n",
       "      <td>0.0</td>\n",
       "      <td>0.0</td>\n",
       "      <td>0.0</td>\n",
       "      <td>0.0</td>\n",
       "      <td>0.0</td>\n",
       "    </tr>\n",
       "    <tr>\n",
       "      <th>1165</th>\n",
       "      <td>6479-OAUSD</td>\n",
       "      <td>2018-01-01</td>\n",
       "      <td>2018-07-01 00:00:00</td>\n",
       "      <td>One year</td>\n",
       "      <td>0</td>\n",
       "      <td>Credit card (automatic)</td>\n",
       "      <td>19.90</td>\n",
       "      <td>119.4</td>\n",
       "      <td>Male</td>\n",
       "      <td>0</td>\n",
       "      <td>0</td>\n",
       "      <td>0</td>\n",
       "      <td>0</td>\n",
       "      <td>0.0</td>\n",
       "      <td>0.0</td>\n",
       "      <td>0.0</td>\n",
       "      <td>0.0</td>\n",
       "      <td>0.0</td>\n",
       "      <td>0.0</td>\n",
       "      <td>0.0</td>\n",
       "    </tr>\n",
       "    <tr>\n",
       "      <th>6465</th>\n",
       "      <td>8164-OCKUJ</td>\n",
       "      <td>2015-03-01</td>\n",
       "      <td>0</td>\n",
       "      <td>Two year</td>\n",
       "      <td>0</td>\n",
       "      <td>Mailed check</td>\n",
       "      <td>20.60</td>\n",
       "      <td>1215.4</td>\n",
       "      <td>Female</td>\n",
       "      <td>0</td>\n",
       "      <td>1</td>\n",
       "      <td>1</td>\n",
       "      <td>0</td>\n",
       "      <td>0.0</td>\n",
       "      <td>0.0</td>\n",
       "      <td>0.0</td>\n",
       "      <td>0.0</td>\n",
       "      <td>0.0</td>\n",
       "      <td>0.0</td>\n",
       "      <td>0.0</td>\n",
       "    </tr>\n",
       "    <tr>\n",
       "      <th>6510</th>\n",
       "      <td>0572-ZJKLT</td>\n",
       "      <td>2016-04-01</td>\n",
       "      <td>0</td>\n",
       "      <td>Two year</td>\n",
       "      <td>0</td>\n",
       "      <td>Mailed check</td>\n",
       "      <td>99.65</td>\n",
       "      <td>4583.9</td>\n",
       "      <td>Female</td>\n",
       "      <td>0</td>\n",
       "      <td>1</td>\n",
       "      <td>1</td>\n",
       "      <td>Fiber optic</td>\n",
       "      <td>1.0</td>\n",
       "      <td>0.0</td>\n",
       "      <td>1.0</td>\n",
       "      <td>1.0</td>\n",
       "      <td>0.0</td>\n",
       "      <td>1.0</td>\n",
       "      <td>1.0</td>\n",
       "    </tr>\n",
       "    <tr>\n",
       "      <th>557</th>\n",
       "      <td>1154-HYWWO</td>\n",
       "      <td>2016-12-01</td>\n",
       "      <td>0</td>\n",
       "      <td>One year</td>\n",
       "      <td>0</td>\n",
       "      <td>Mailed check</td>\n",
       "      <td>70.60</td>\n",
       "      <td>2682.8</td>\n",
       "      <td>Male</td>\n",
       "      <td>0</td>\n",
       "      <td>0</td>\n",
       "      <td>0</td>\n",
       "      <td>DSL</td>\n",
       "      <td>1.0</td>\n",
       "      <td>1.0</td>\n",
       "      <td>0.0</td>\n",
       "      <td>1.0</td>\n",
       "      <td>1.0</td>\n",
       "      <td>0.0</td>\n",
       "      <td>0.0</td>\n",
       "    </tr>\n",
       "  </tbody>\n",
       "</table>\n",
       "</div>"
      ],
      "text/plain": [
       "     customer_id begin_date             end_date            type  \\\n",
       "4131  2876-VBBBL 2019-12-01                    0  Month-to-month   \n",
       "1165  6479-OAUSD 2018-01-01  2018-07-01 00:00:00        One year   \n",
       "6465  8164-OCKUJ 2015-03-01                    0        Two year   \n",
       "6510  0572-ZJKLT 2016-04-01                    0        Two year   \n",
       "557   1154-HYWWO 2016-12-01                    0        One year   \n",
       "\n",
       "      paperless_billing           payment_method  monthly_charges  \\\n",
       "4131                  1             Mailed check            20.25   \n",
       "1165                  0  Credit card (automatic)            19.90   \n",
       "6465                  0             Mailed check            20.60   \n",
       "6510                  0             Mailed check            99.65   \n",
       "557                   0             Mailed check            70.60   \n",
       "\n",
       "      total_charges  gender  senior_citizen  partner  dependents  \\\n",
       "4131           40.5  Female               0        0           0   \n",
       "1165          119.4    Male               0        0           0   \n",
       "6465         1215.4  Female               0        1           1   \n",
       "6510         4583.9  Female               0        1           1   \n",
       "557          2682.8    Male               0        0           0   \n",
       "\n",
       "     internet_service  online_security  online_backup  device_protection  \\\n",
       "4131                0              0.0            0.0                0.0   \n",
       "1165                0              0.0            0.0                0.0   \n",
       "6465                0              0.0            0.0                0.0   \n",
       "6510      Fiber optic              1.0            0.0                1.0   \n",
       "557               DSL              1.0            1.0                0.0   \n",
       "\n",
       "      tech_support  streaming_tv  streaming_movies  multiple_lines  \n",
       "4131           0.0           0.0               0.0             0.0  \n",
       "1165           0.0           0.0               0.0             0.0  \n",
       "6465           0.0           0.0               0.0             0.0  \n",
       "6510           1.0           0.0               1.0             1.0  \n",
       "557            1.0           1.0               0.0             0.0  "
      ]
     },
     "execution_count": 19,
     "metadata": {},
     "output_type": "execute_result"
    }
   ],
   "source": [
    "df = df.replace({'yes': 1, 'Yes': 1, 'no': 0, 'No': 0, np.nan : 0})\n",
    "df['internet_service'] = df['internet_service'].astype(str)# Чтобы OHE не ругался на смешанный тип данных\n",
    "df.sample(5)"
   ]
  },
  {
   "cell_type": "code",
   "execution_count": 20,
   "metadata": {},
   "outputs": [
    {
     "name": "stdout",
     "output_type": "stream",
     "text": [
      "<class 'pandas.core.frame.DataFrame'>\n",
      "RangeIndex: 7043 entries, 0 to 7042\n",
      "Data columns (total 20 columns):\n",
      " #   Column             Non-Null Count  Dtype         \n",
      "---  ------             --------------  -----         \n",
      " 0   customer_id        7043 non-null   object        \n",
      " 1   begin_date         7043 non-null   datetime64[ns]\n",
      " 2   end_date           7043 non-null   object        \n",
      " 3   type               7043 non-null   object        \n",
      " 4   paperless_billing  7043 non-null   int32         \n",
      " 5   payment_method     7043 non-null   object        \n",
      " 6   monthly_charges    7043 non-null   float64       \n",
      " 7   total_charges      7043 non-null   float64       \n",
      " 8   gender             7043 non-null   object        \n",
      " 9   senior_citizen     7043 non-null   int32         \n",
      " 10  partner            7043 non-null   int32         \n",
      " 11  dependents         7043 non-null   int32         \n",
      " 12  internet_service   7043 non-null   object        \n",
      " 13  online_security    7043 non-null   int32         \n",
      " 14  online_backup      7043 non-null   int32         \n",
      " 15  device_protection  7043 non-null   int32         \n",
      " 16  tech_support       7043 non-null   int32         \n",
      " 17  streaming_tv       7043 non-null   int32         \n",
      " 18  streaming_movies   7043 non-null   int32         \n",
      " 19  multiple_lines     7043 non-null   int32         \n",
      "dtypes: datetime64[ns](1), float64(2), int32(11), object(6)\n",
      "memory usage: 798.0+ KB\n"
     ]
    }
   ],
   "source": [
    "df[df.columns[df.isin([0, 1]).all()]] = df[df.columns[df.isin([0, 1]).all()]].astype(int)\n",
    "df.info()"
   ]
  },
  {
   "cell_type": "markdown",
   "metadata": {},
   "source": [
    "### Создание нового признака"
   ]
  },
  {
   "cell_type": "code",
   "execution_count": 21,
   "metadata": {},
   "outputs": [
    {
     "data": {
      "text/plain": [
       "1176    276\n",
       "2246    123\n",
       "5358    549\n",
       "2892     31\n",
       "967      92\n",
       "Name: days_with_operator, dtype: int32"
      ]
     },
     "execution_count": 21,
     "metadata": {},
     "output_type": "execute_result"
    }
   ],
   "source": [
    "current_date = pd.to_datetime('2020-02-01')  # Дата для расчета, если end_date равно '0'\n",
    "df['days_with_operator'] = df.apply(lambda row: (current_date - row['begin_date']).days\n",
    "                                     if row['end_date'] == 0\n",
    "                                     else (row['end_date'] - row['begin_date']).days, axis=1).astype(int)\n",
    "\n",
    "\n",
    "df['days_with_operator'].sample(5)"
   ]
  },
  {
   "cell_type": "markdown",
   "metadata": {},
   "source": [
    "### Создание целевого признака"
   ]
  },
  {
   "cell_type": "code",
   "execution_count": 22,
   "metadata": {},
   "outputs": [
    {
     "data": {
      "text/html": [
       "<div>\n",
       "<style scoped>\n",
       "    .dataframe tbody tr th:only-of-type {\n",
       "        vertical-align: middle;\n",
       "    }\n",
       "\n",
       "    .dataframe tbody tr th {\n",
       "        vertical-align: top;\n",
       "    }\n",
       "\n",
       "    .dataframe thead th {\n",
       "        text-align: right;\n",
       "    }\n",
       "</style>\n",
       "<table border=\"1\" class=\"dataframe\">\n",
       "  <thead>\n",
       "    <tr style=\"text-align: right;\">\n",
       "      <th></th>\n",
       "      <th>customer_id</th>\n",
       "      <th>begin_date</th>\n",
       "      <th>end_date</th>\n",
       "      <th>type</th>\n",
       "      <th>paperless_billing</th>\n",
       "      <th>payment_method</th>\n",
       "      <th>monthly_charges</th>\n",
       "      <th>total_charges</th>\n",
       "      <th>gender</th>\n",
       "      <th>senior_citizen</th>\n",
       "      <th>partner</th>\n",
       "      <th>dependents</th>\n",
       "      <th>internet_service</th>\n",
       "      <th>online_security</th>\n",
       "      <th>online_backup</th>\n",
       "      <th>device_protection</th>\n",
       "      <th>tech_support</th>\n",
       "      <th>streaming_tv</th>\n",
       "      <th>streaming_movies</th>\n",
       "      <th>multiple_lines</th>\n",
       "      <th>days_with_operator</th>\n",
       "      <th>churn</th>\n",
       "    </tr>\n",
       "  </thead>\n",
       "  <tbody>\n",
       "    <tr>\n",
       "      <th>6171</th>\n",
       "      <td>1658-XUHBX</td>\n",
       "      <td>2015-03-01</td>\n",
       "      <td>2017-02-01 00:00:00</td>\n",
       "      <td>Month-to-month</td>\n",
       "      <td>1</td>\n",
       "      <td>Credit card (automatic)</td>\n",
       "      <td>88.75</td>\n",
       "      <td>2082.07</td>\n",
       "      <td>Female</td>\n",
       "      <td>1</td>\n",
       "      <td>1</td>\n",
       "      <td>1</td>\n",
       "      <td>Fiber optic</td>\n",
       "      <td>0</td>\n",
       "      <td>0</td>\n",
       "      <td>1</td>\n",
       "      <td>0</td>\n",
       "      <td>0</td>\n",
       "      <td>1</td>\n",
       "      <td>1</td>\n",
       "      <td>703</td>\n",
       "      <td>1</td>\n",
       "    </tr>\n",
       "    <tr>\n",
       "      <th>3521</th>\n",
       "      <td>2550-AEVRU</td>\n",
       "      <td>2015-05-01</td>\n",
       "      <td>0</td>\n",
       "      <td>One year</td>\n",
       "      <td>0</td>\n",
       "      <td>Electronic check</td>\n",
       "      <td>53.45</td>\n",
       "      <td>3198.98</td>\n",
       "      <td>Female</td>\n",
       "      <td>0</td>\n",
       "      <td>1</td>\n",
       "      <td>1</td>\n",
       "      <td>DSL</td>\n",
       "      <td>1</td>\n",
       "      <td>1</td>\n",
       "      <td>0</td>\n",
       "      <td>0</td>\n",
       "      <td>0</td>\n",
       "      <td>0</td>\n",
       "      <td>0</td>\n",
       "      <td>1737</td>\n",
       "      <td>0</td>\n",
       "    </tr>\n",
       "    <tr>\n",
       "      <th>1162</th>\n",
       "      <td>9359-UGBTK</td>\n",
       "      <td>2014-07-01</td>\n",
       "      <td>0</td>\n",
       "      <td>One year</td>\n",
       "      <td>1</td>\n",
       "      <td>Bank transfer (automatic)</td>\n",
       "      <td>72.35</td>\n",
       "      <td>4847.45</td>\n",
       "      <td>Female</td>\n",
       "      <td>0</td>\n",
       "      <td>0</td>\n",
       "      <td>0</td>\n",
       "      <td>DSL</td>\n",
       "      <td>1</td>\n",
       "      <td>0</td>\n",
       "      <td>1</td>\n",
       "      <td>1</td>\n",
       "      <td>0</td>\n",
       "      <td>1</td>\n",
       "      <td>0</td>\n",
       "      <td>2041</td>\n",
       "      <td>0</td>\n",
       "    </tr>\n",
       "    <tr>\n",
       "      <th>7008</th>\n",
       "      <td>1980-KXVPM</td>\n",
       "      <td>2019-09-01</td>\n",
       "      <td>0</td>\n",
       "      <td>Month-to-month</td>\n",
       "      <td>1</td>\n",
       "      <td>Credit card (automatic)</td>\n",
       "      <td>75.05</td>\n",
       "      <td>375.25</td>\n",
       "      <td>Female</td>\n",
       "      <td>1</td>\n",
       "      <td>0</td>\n",
       "      <td>0</td>\n",
       "      <td>Fiber optic</td>\n",
       "      <td>0</td>\n",
       "      <td>0</td>\n",
       "      <td>0</td>\n",
       "      <td>0</td>\n",
       "      <td>0</td>\n",
       "      <td>0</td>\n",
       "      <td>1</td>\n",
       "      <td>153</td>\n",
       "      <td>0</td>\n",
       "    </tr>\n",
       "    <tr>\n",
       "      <th>5150</th>\n",
       "      <td>7017-VFULY</td>\n",
       "      <td>2019-12-01</td>\n",
       "      <td>0</td>\n",
       "      <td>Month-to-month</td>\n",
       "      <td>0</td>\n",
       "      <td>Bank transfer (automatic)</td>\n",
       "      <td>20.10</td>\n",
       "      <td>43.42</td>\n",
       "      <td>Female</td>\n",
       "      <td>0</td>\n",
       "      <td>1</td>\n",
       "      <td>0</td>\n",
       "      <td>0</td>\n",
       "      <td>0</td>\n",
       "      <td>0</td>\n",
       "      <td>0</td>\n",
       "      <td>0</td>\n",
       "      <td>0</td>\n",
       "      <td>0</td>\n",
       "      <td>0</td>\n",
       "      <td>62</td>\n",
       "      <td>0</td>\n",
       "    </tr>\n",
       "  </tbody>\n",
       "</table>\n",
       "</div>"
      ],
      "text/plain": [
       "     customer_id begin_date             end_date            type  \\\n",
       "6171  1658-XUHBX 2015-03-01  2017-02-01 00:00:00  Month-to-month   \n",
       "3521  2550-AEVRU 2015-05-01                    0        One year   \n",
       "1162  9359-UGBTK 2014-07-01                    0        One year   \n",
       "7008  1980-KXVPM 2019-09-01                    0  Month-to-month   \n",
       "5150  7017-VFULY 2019-12-01                    0  Month-to-month   \n",
       "\n",
       "      paperless_billing             payment_method  monthly_charges  \\\n",
       "6171                  1    Credit card (automatic)            88.75   \n",
       "3521                  0           Electronic check            53.45   \n",
       "1162                  1  Bank transfer (automatic)            72.35   \n",
       "7008                  1    Credit card (automatic)            75.05   \n",
       "5150                  0  Bank transfer (automatic)            20.10   \n",
       "\n",
       "      total_charges  gender  senior_citizen  partner  dependents  \\\n",
       "6171        2082.07  Female               1        1           1   \n",
       "3521        3198.98  Female               0        1           1   \n",
       "1162        4847.45  Female               0        0           0   \n",
       "7008         375.25  Female               1        0           0   \n",
       "5150          43.42  Female               0        1           0   \n",
       "\n",
       "     internet_service  online_security  online_backup  device_protection  \\\n",
       "6171      Fiber optic                0              0                  1   \n",
       "3521              DSL                1              1                  0   \n",
       "1162              DSL                1              0                  1   \n",
       "7008      Fiber optic                0              0                  0   \n",
       "5150                0                0              0                  0   \n",
       "\n",
       "      tech_support  streaming_tv  streaming_movies  multiple_lines  \\\n",
       "6171             0             0                 1               1   \n",
       "3521             0             0                 0               0   \n",
       "1162             1             0                 1               0   \n",
       "7008             0             0                 0               1   \n",
       "5150             0             0                 0               0   \n",
       "\n",
       "      days_with_operator  churn  \n",
       "6171                 703      1  \n",
       "3521                1737      0  \n",
       "1162                2041      0  \n",
       "7008                 153      0  \n",
       "5150                  62      0  "
      ]
     },
     "execution_count": 22,
     "metadata": {},
     "output_type": "execute_result"
    }
   ],
   "source": [
    "df['churn'] = df['end_date'].apply(lambda x: 1 if x != 0 else 0)\n",
    "df.sample(5)"
   ]
  },
  {
   "cell_type": "markdown",
   "metadata": {},
   "source": [
    "### Удаление лишних столбцов"
   ]
  },
  {
   "cell_type": "code",
   "execution_count": 23,
   "metadata": {},
   "outputs": [
    {
     "name": "stdout",
     "output_type": "stream",
     "text": [
      "<class 'pandas.core.frame.DataFrame'>\n",
      "RangeIndex: 7043 entries, 0 to 7042\n",
      "Data columns (total 17 columns):\n",
      " #   Column              Non-Null Count  Dtype  \n",
      "---  ------              --------------  -----  \n",
      " 0   type                7043 non-null   object \n",
      " 1   payment_method      7043 non-null   object \n",
      " 2   monthly_charges     7043 non-null   float64\n",
      " 3   total_charges       7043 non-null   float64\n",
      " 4   senior_citizen      7043 non-null   int32  \n",
      " 5   partner             7043 non-null   int32  \n",
      " 6   dependents          7043 non-null   int32  \n",
      " 7   internet_service    7043 non-null   object \n",
      " 8   online_security     7043 non-null   int32  \n",
      " 9   online_backup       7043 non-null   int32  \n",
      " 10  device_protection   7043 non-null   int32  \n",
      " 11  tech_support        7043 non-null   int32  \n",
      " 12  streaming_tv        7043 non-null   int32  \n",
      " 13  streaming_movies    7043 non-null   int32  \n",
      " 14  multiple_lines      7043 non-null   int32  \n",
      " 15  days_with_operator  7043 non-null   int32  \n",
      " 16  churn               7043 non-null   int64  \n",
      "dtypes: float64(2), int32(11), int64(1), object(3)\n",
      "memory usage: 632.9+ KB\n"
     ]
    }
   ],
   "source": [
    "df = df.drop(columns=['paperless_billing', 'gender', 'customer_id', 'begin_date', 'end_date'])\n",
    "df.info()"
   ]
  },
  {
   "cell_type": "markdown",
   "metadata": {},
   "source": [
    "**Вывод:** В ходе предобработки данных\n",
    "1. Несколько df были объеденены в 1 df\n",
    "2. Названия всех столбцов приведены к змеиному регистру\n",
    "3. Столбцы begin_date и end_date были приведы к типу datetime для дальнейшей работы с этими столбцами \n",
    "4. Все столбцы, содержащие yes/no заменены на 1/0, так как:\n",
    "    * Легкость интерпретации: Многие алгоритмы машинного обучения, включая градиентный бустинг, работают лучше с числовыми данными. Замена \"yes/no\" на \"1/0\" делает данные числовыми и упрощает интерпретацию модели\n",
    "    * Улучшение производительности: Некоторые алгоритмы машинного обучения могут эффективнее работать с числовыми данными, что может привести к улучшению производительности модели\n",
    "    - А так же столбцы с 1/0 были переведены в тип int, так как он обрабатывается моделями машинного обучения быстрее и занимает меньше места в памяти по сравнению с типом данных object\n",
    "5. Был создан новый признак days_with_operator, который указывает, сколько дней провел с оператором каждый абонент на 1 февраля 2020 года\n",
    "6. Создан целевой признак churn, который показывает факт ухода абонентов\n",
    "7. Произведено удаление лишних столбцов, которые не несут для моделей какой-либо важной информации для предсказания: paperless_billing, gender, customer_id, begin_date, end_date"
   ]
  },
  {
   "cell_type": "markdown",
   "metadata": {},
   "source": [
    "## Разделение данных на выборки"
   ]
  },
  {
   "cell_type": "code",
   "execution_count": 24,
   "metadata": {},
   "outputs": [],
   "source": [
    "X_train, X_test, y_train, y_test = train_test_split(df.drop(columns=['churn']), df['churn'], test_size=0.25, random_state=250923)"
   ]
  },
  {
   "cell_type": "markdown",
   "metadata": {},
   "source": [
    "**Вывод:** Данные разделены на тестовую и тренировочную выборки в соотношении 25%/75%"
   ]
  },
  {
   "cell_type": "markdown",
   "metadata": {},
   "source": [
    "## Кодирование "
   ]
  },
  {
   "cell_type": "code",
   "execution_count": 25,
   "metadata": {},
   "outputs": [],
   "source": [
    "columns_to_encode = ['type', 'payment_method', 'internet_service']\n",
    "\n",
    "encoder = OneHotEncoder(sparse=False)\n",
    "\n",
    "# Кодируем признаки в тренировочной выборке\n",
    "encoded_data_train = encoder.fit_transform(X_train[columns_to_encode])\n",
    "\n",
    "# Создаем DataFrame с закодированными признаками для тренировочной выборки\n",
    "encoded_df_train = pd.DataFrame(encoded_data_train, columns=encoder.get_feature_names(columns_to_encode), index=X_train.index)\n",
    "\n",
    "# Обновляем тренировочную выборку\n",
    "X_train = pd.concat([X_train, encoded_df_train], axis=1)\n",
    "X_train = X_train.drop(columns=columns_to_encode)\n",
    "\n",
    "# Кодируем признаки в тестовой выборке\n",
    "encoded_data_test = encoder.transform(X_test[columns_to_encode])\n",
    "\n",
    "# Создаем DataFrame с закодированными признаками для тестовой выборки\n",
    "encoded_df_test = pd.DataFrame(encoded_data_test, columns=encoder.get_feature_names(columns_to_encode), index=X_test.index)\n",
    "\n",
    "# Обновляем тестовую выборку\n",
    "X_test = pd.concat([X_test, encoded_df_test], axis=1)\n",
    "X_test = X_test.drop(columns=columns_to_encode)"
   ]
  },
  {
   "cell_type": "markdown",
   "metadata": {},
   "source": [
    "**Вывод:**  Столбцы type, internet_service и payment_method были закодированы для дальнейшего обучения моделей"
   ]
  },
  {
   "cell_type": "markdown",
   "metadata": {},
   "source": [
    "## Машинное обучение"
   ]
  },
  {
   "cell_type": "code",
   "execution_count": 26,
   "metadata": {},
   "outputs": [],
   "source": [
    "def optimize_model(name, model, param_distributions, X_train, y_train):\n",
    "    \n",
    "    optuna = OptunaSearchCV(\n",
    "    model, \n",
    "    param_distributions=param_distributions, \n",
    "    cv=5, \n",
    "    n_trials=100, \n",
    "    scoring='roc_auc', \n",
    "    n_jobs=-1,\n",
    "    )\n",
    "    \n",
    "    optuna.fit(X_train, y_train)\n",
    "    \n",
    "    print(f'Лучшие параметры для {name}:', optuna.best_params_)\n",
    "    print(f'Метрика на кросс-валидации для {name}:', optuna.best_score_)\n",
    "    \n",
    "    return optuna.best_params_"
   ]
  },
  {
   "cell_type": "code",
   "execution_count": 27,
   "metadata": {},
   "outputs": [],
   "source": [
    "warnings.filterwarnings(\"ignore\")\n",
    "optuna.logging.set_verbosity(logging.WARNING)"
   ]
  },
  {
   "cell_type": "markdown",
   "metadata": {},
   "source": [
    "### XGBClassifier"
   ]
  },
  {
   "cell_type": "code",
   "execution_count": 28,
   "metadata": {},
   "outputs": [
    {
     "name": "stdout",
     "output_type": "stream",
     "text": [
      "Лучшие параметры для XGBClassifier: {'n_estimators': 458, 'max_depth': 4, 'learning_rate': 0.0762564876121307, 'min_child_weight': 2, 'gamma': 0, 'subsample': 0.905234326474519, 'colsample_bytree': 0.8876431518237631, 'reg_alpha': 1, 'reg_lambda': 0, 'scale_pos_weight': 4}\n",
      "Метрика на кросс-валидации для XGBClassifier: 0.9006828259988519\n"
     ]
    }
   ],
   "source": [
    "xgb_param_distributions = {\n",
    "    'n_estimators': optuna.distributions.IntDistribution(50, 500),\n",
    "    'max_depth': optuna.distributions.IntDistribution(3, 10),\n",
    "    'learning_rate': optuna.distributions.FloatDistribution(0.01, 0.1),\n",
    "    'min_child_weight': optuna.distributions.IntDistribution(1, 10),\n",
    "    'gamma': optuna.distributions.IntDistribution(0, 1.0),\n",
    "    'subsample': optuna.distributions.FloatDistribution(0.5, 1.0),\n",
    "    'colsample_bytree': optuna.distributions.FloatDistribution(0.5, 1.0),\n",
    "    'reg_alpha': optuna.distributions.IntDistribution(0, 1.0),\n",
    "    'reg_lambda': optuna.distributions.IntDistribution(0, 1.0),\n",
    "    'scale_pos_weight': optuna.distributions.IntDistribution(1, 10),\n",
    "}\n",
    "\n",
    "xgb_best_params = optimize_model('XGBClassifier',\n",
    "    XGBClassifier(eval_metric='error', random_state=250923), xgb_param_distributions, X_train, y_train\n",
    ")\n"
   ]
  },
  {
   "cell_type": "markdown",
   "metadata": {},
   "source": [
    "### LGBMClassifier"
   ]
  },
  {
   "cell_type": "code",
   "execution_count": 29,
   "metadata": {
    "scrolled": true
   },
   "outputs": [
    {
     "name": "stdout",
     "output_type": "stream",
     "text": [
      "[LightGBM] [Warning] Unknown parameter: eval_metric\n",
      "[LightGBM] [Warning] Found whitespace in feature_names, replace with underlines\n",
      "[LightGBM] [Warning] Unknown parameter: eval_metric\n",
      "[LightGBM] [Info] Number of positive: 820, number of negative: 4462\n",
      "[LightGBM] [Info] Auto-choosing col-wise multi-threading, the overhead of testing was 0.001637 seconds.\n",
      "You can set `force_col_wise=true` to remove the overhead.\n",
      "[LightGBM] [Info] Total Bins 728\n",
      "[LightGBM] [Info] Number of data points in the train set: 5282, number of used features: 23\n",
      "[LightGBM] [Info] [binary:BoostFromScore]: pavg=0.155244 -> initscore=-1.694048\n",
      "[LightGBM] [Info] Start training from score -1.694048\n",
      "Лучшие параметры для LGBMClassifier: {'n_estimators': 366, 'max_depth': 9, 'learning_rate': 0.09235501427975056, 'num_leaves': 24, 'min_child_samples': 7, 'subsample': 0.7228441712872525, 'colsample_bytree': 0.6017551091732136}\n",
      "Метрика на кросс-валидации для LGBMClassifier: 0.9065167971899515\n"
     ]
    }
   ],
   "source": [
    "lgbm_param_distributions = {\n",
    "    'n_estimators': optuna.distributions.IntDistribution(50, 500),\n",
    "    'max_depth': optuna.distributions.IntDistribution(3, 10),\n",
    "    'learning_rate': optuna.distributions.FloatDistribution(0.01, 0.1),\n",
    "    'num_leaves': optuna.distributions.IntDistribution(20, 50),\n",
    "    'min_child_samples': optuna.distributions.IntDistribution(2, 20),\n",
    "    'subsample': optuna.distributions.FloatDistribution(0.5, 1.0),\n",
    "    'colsample_bytree': optuna.distributions.FloatDistribution(0.5, 1.0),\n",
    "}\n",
    "lgb_model = LGBMClassifier(eval_metric='error', random_state=250923)\n",
    "\n",
    "lgbm_best_params = optimize_model('LGBMClassifier',\n",
    "   lgb_model, lgbm_param_distributions, X_train, y_train\n",
    ")"
   ]
  },
  {
   "cell_type": "markdown",
   "metadata": {},
   "source": [
    "### CatBoostClassifier"
   ]
  },
  {
   "cell_type": "code",
   "execution_count": 30,
   "metadata": {
    "scrolled": true
   },
   "outputs": [
    {
     "name": "stdout",
     "output_type": "stream",
     "text": [
      "Лучшие параметры для CatBoostClassifier: {'iterations': 487, 'depth': 4, 'learning_rate': 0.0887561413241534, 'l2_leaf_reg': 2, 'subsample': 0.5412912515907076, 'colsample_bylevel': 0.9999480013082004, 'verbose': 0}\n",
      "Метрика на кросс-валидации для CatBoostClassifier: 0.9115143245023484\n"
     ]
    }
   ],
   "source": [
    "catboost_param_distributions = {\n",
    "    'iterations': optuna.distributions.IntDistribution(50, 500),\n",
    "    'depth': optuna.distributions.IntDistribution(3, 10),\n",
    "    'learning_rate': optuna.distributions.FloatDistribution(0.01, 0.1),\n",
    "    'l2_leaf_reg': optuna.distributions.IntDistribution(1, 10),\n",
    "    'subsample': optuna.distributions.FloatDistribution(0.5, 1.0),\n",
    "    'colsample_bylevel': optuna.distributions.FloatDistribution(0.5, 1.0),\n",
    "    'verbose': optuna.distributions.CategoricalDistribution([0])\n",
    "}\n",
    "catboost_model = CatBoostClassifier(random_state=250923)\n",
    "\n",
    "catboost_best_params = optimize_model('CatBoostClassifier',\n",
    "    catboost_model, catboost_param_distributions, X_train, y_train\n",
    ")"
   ]
  },
  {
   "cell_type": "markdown",
   "metadata": {},
   "source": [
    "**Вывод:** По результатам кросс-валидации лучшие показатели у модели CatBoostClassifier"
   ]
  },
  {
   "cell_type": "markdown",
   "metadata": {},
   "source": [
    "## Проверка качетсва лучшей модели на тестовой выборке"
   ]
  },
  {
   "cell_type": "code",
   "execution_count": 31,
   "metadata": {},
   "outputs": [
    {
     "name": "stdout",
     "output_type": "stream",
     "text": [
      "ROC AUC на тестовой выборке: 0.9224103106665384\n"
     ]
    }
   ],
   "source": [
    "best_model = CatBoostClassifier(**catboost_best_params, random_state=250923)\n",
    "\n",
    "\n",
    "best_model.fit(X_train, y_train)\n",
    "\n",
    "\n",
    "predictions_test = best_model.predict_proba(X_test)[:, 1]\n",
    "\n",
    "\n",
    "roc_auc = roc_auc_score(y_test, predictions_test)\n",
    "\n",
    "print(\"ROC AUC на тестовой выборке:\", roc_auc)"
   ]
  },
  {
   "cell_type": "markdown",
   "metadata": {},
   "source": [
    "**Вывод:** Модель подходит для заказчика"
   ]
  },
  {
   "cell_type": "markdown",
   "metadata": {},
   "source": [
    "## Исследование важности признаков лучшей модели"
   ]
  },
  {
   "cell_type": "code",
   "execution_count": 32,
   "metadata": {},
   "outputs": [
    {
     "data": {
      "image/png": "[encoded data removed]",
      "text/plain": [
       "<Figure size 1000x600 with 1 Axes>"
      ]
     },
     "metadata": {},
     "output_type": "display_data"
    }
   ],
   "source": [
    "feature_importance = best_model.feature_importances_\n",
    "\n",
    "\n",
    "plt.figure(figsize=(10, 6))\n",
    "plt.barh(X_train.columns, feature_importance)\n",
    "plt.xlabel('Важность признака')\n",
    "plt.ylabel('Признаки')\n",
    "plt.show()"
   ]
  },
  {
   "cell_type": "markdown",
   "metadata": {},
   "source": [
    "**Вывод:** Самые важные признаки для модели CatBoostClassifier - это days_with_operator, monthly_charges и monthly_charges"
   ]
  },
  {
   "cell_type": "markdown",
   "metadata": {},
   "source": [
    "### Матрица ошибок"
   ]
  },
  {
   "cell_type": "code",
   "execution_count": 33,
   "metadata": {},
   "outputs": [
    {
     "data": {
      "image/png": "[encoded data removed]",
      "text/plain": [
       "<Figure size 640x480 with 2 Axes>"
      ]
     },
     "metadata": {},
     "output_type": "display_data"
    }
   ],
   "source": [
    "cm = confusion_matrix(y_test, best_model.predict(X_test))\n",
    "\n",
    "plot_confusion_matrix(best_model, X_test, y_test, cmap=plt.cm.Blues, display_labels=['Не ушли', 'Ушли'])\n",
    "plt.title('Матрица ошибок')\n",
    "plt.show()"
   ]
  },
  {
   "cell_type": "markdown",
   "metadata": {},
   "source": [
    "**Вывод:** Исходя из значений матрицы ошибок\n",
    "* Чувствительность = TP / (TP + FN) = 1465 / (1465 + 140) ≈ 0.91. Это означает, что модель хорошо выявляет истинные положительные случаи и имеет высокую способность обнаруживать объекты положительного класса\n",
    "* Специфичность = TN / (TN + FP) = 141 / (141 + 15) ≈ 0.9. Это означает, что модель также хорошо различает истинные отрицательные случаи и имеет способность избегать ложных срабатываний\n",
    "* Точность = TP / (TP + FP) = 1465 / (1465 + 15) ≈ 0.99. Это говорит о том, что модель имеет высокую точность в предсказании положительных случаев\n",
    "* F1-мера = 2 * (Точность * Чувствительность) / (Точность + Чувствительность) ≈ 0.958. Это говорит о хорошем балансе между точностью и чувствительностью\n",
    "* AUC-ROC ≈ 0.93. AUC-ROC близка к 1, что указывает на хорошую способность модели разделять классы"
   ]
  },
  {
   "cell_type": "markdown",
   "metadata": {},
   "source": [
    "## Вывод по 2 части проекта"
   ]
  },
  {
   "cell_type": "markdown",
   "metadata": {},
   "source": [
    "* В ходе второй части проекта были проведены важные этапы предобработки данных:\n",
    "\n",
    "    1.Объединение данных: Несколько DataFrame были объединены в один для более полного анализа\n",
    "\n",
    "    2.Приведение к нижнему регистру: Названия всех столбцов были приведены к змеиному регистру для удобства работы с ними\n",
    "\n",
    "    3.Преобразование дат: Столбцы begin_date и end_date были приведены к типу datetime для дальнейшего анализа и использования\n",
    "\n",
    "    4.Бинарная классификация: Столбцы, содержащие \"yes/no\", были заменены на \"1/0\". Это упростило интерпретацию и улучшило производительность моделей машинного обучения\n",
    "\n",
    "    5.Изменение типов данных: Столбцы с 1/0 были переведены в тип int, что способствует более быстрой обработке и экономии памяти\n",
    "\n",
    "    6.Создание новых признаков: Был создан признак \"days_with_operator\", отражающий количество дней, проведенных с оператором, а также целевой признак \"churn\" для определения факта ухода абонентов\n",
    "\n",
    "    7.Удаление лишних столбцов: Избыточные столбцы, которые не несли важной информации для предсказания, были удалены\n",
    "\n",
    "* После этапа предобработки данных проведено обучение и оценка моделей машинного обучения. Лучшие показатели были получены с использованием модели CatBoostClassifier, что делает ее подходящей для заказчика ROC AUC на тестовой выборке составляет 0.92, что превышает порог заказчика в 0.85\n",
    "\n",
    "* Анализ матрицы ошибок позволяет утверждать, что модель хорошо выявляет истинные положительные и отрицательные случаи. Метрики, такие как чувствительность, специфичность, точность и F1-мера, подтверждают качество классификации\n",
    "\n",
    "* Важными признаками для модели CatBoostClassifier оказались \"days_with_operator\", \"monthly_charges\" и \"monthly_charges\"\n",
    "\n",
    "* Результаты демонстрируют высокую эффективность модели CatBoostClassifier в задаче прогнозирования ухода абонентов, что делает ее рекомендуемым выбором для заказчика"
   ]
  },
  {
   "cell_type": "markdown",
   "metadata": {},
   "source": [
    "# Отчет "
   ]
  },
  {
   "cell_type": "markdown",
   "metadata": {},
   "source": [
    "## План "
   ]
  },
  {
   "cell_type": "markdown",
   "metadata": {},
   "source": [
    "   * Загрузка данных и первый обзор их \n",
    "   * Предобработка данных (обработка дубликатов и аномалий, приведение данных к нужным типам, создание новых признаков и удаление ненужных) \n",
    "   * Объединение всех датафреймов в один\n",
    "   * Разделение данных на тестовую и тренировочную выборки\n",
    "   * Кодирование масштабирование (при необходимости)\n",
    "   * Подбор лучшей модели на кросс-валидации\n",
    "   * Проверка лучшей модели на тестовой выборке\n",
    "   * Исследование признаков лучшей модели + матрица ошибок"
   ]
  },
  {
   "cell_type": "markdown",
   "metadata": {},
   "source": [
    "Все пункты плана были выволненны, кроме масшабирования. Оно не потребовалось, так как использовались модели градиентого бустинга"
   ]
  },
  {
   "cell_type": "markdown",
   "metadata": {},
   "source": [
    "## Трудности"
   ]
  },
  {
   "cell_type": "markdown",
   "metadata": {},
   "source": [
    "1) Самая большая трудность была с индексами в df после кодирования. Кодировались только определенные столбцы, а потом объединялись с выборками. Модель писала, что индексация выходит за пределы. \n",
    " * Решение: При склеивании закодированных столбцов с выбоками указал явно, что индексы должны совпадать с индексами выборок \"index=X_train\\test.index\"\n",
    " 2) Проблема с чрезмерными сообщениями в консоли от оптимизатора и моделей\n",
    " * Решение: Указание оптимизатору, что нужно выводить сообщения только степени \"Ошибка\""
   ]
  },
  {
   "cell_type": "markdown",
   "metadata": {},
   "source": [
    "## Ключевые шаги"
   ]
  },
  {
   "cell_type": "markdown",
   "metadata": {},
   "source": [
    "1. Загрузка данных\n",
    "2. Предобработка данных\n",
    "3. Разделение данных на выборки\n",
    "4. Подбор подходящей модели и ее гиперпараметров\n",
    "5. Тестирование модели на тестовой выборке "
   ]
  },
  {
   "cell_type": "markdown",
   "metadata": {},
   "source": [
    "## Итоговая модель "
   ]
  },
  {
   "cell_type": "markdown",
   "metadata": {},
   "source": [
    "Модель: CatBoostClassifier"
   ]
  },
  {
   "cell_type": "markdown",
   "metadata": {},
   "source": [
    "### Гиперпараметры"
   ]
  },
  {
   "cell_type": "code",
   "execution_count": 34,
   "metadata": {},
   "outputs": [
    {
     "data": {
      "text/plain": [
       "{'iterations': 487,\n",
       " 'depth': 4,\n",
       " 'learning_rate': 0.0887561413241534,\n",
       " 'l2_leaf_reg': 2,\n",
       " 'subsample': 0.5412912515907076,\n",
       " 'colsample_bylevel': 0.9999480013082004,\n",
       " 'verbose': 0}"
      ]
     },
     "execution_count": 34,
     "metadata": {},
     "output_type": "execute_result"
    }
   ],
   "source": [
    "catboost_best_params"
   ]
  },
  {
   "cell_type": "markdown",
   "metadata": {},
   "source": [
    "### Качество"
   ]
  },
  {
   "cell_type": "markdown",
   "metadata": {},
   "source": [
    "ROC AUC CatBoostClassifier на тестовой выборке: 0.92"
   ]
  },
  {
   "cell_type": "markdown",
   "metadata": {},
   "source": [
    "### Список признаков "
   ]
  },
  {
   "cell_type": "code",
   "execution_count": 35,
   "metadata": {},
   "outputs": [
    {
     "data": {
      "text/plain": [
       "Index(['monthly_charges', 'total_charges', 'senior_citizen', 'partner',\n",
       "       'dependents', 'online_security', 'online_backup', 'device_protection',\n",
       "       'tech_support', 'streaming_tv', 'streaming_movies', 'multiple_lines',\n",
       "       'days_with_operator', 'type_Month-to-month', 'type_One year',\n",
       "       'type_Two year', 'payment_method_Bank transfer (automatic)',\n",
       "       'payment_method_Credit card (automatic)',\n",
       "       'payment_method_Electronic check', 'payment_method_Mailed check',\n",
       "       'internet_service_0', 'internet_service_DSL',\n",
       "       'internet_service_Fiber optic'],\n",
       "      dtype='object')"
      ]
     },
     "execution_count": 35,
     "metadata": {},
     "output_type": "execute_result"
    }
   ],
   "source": [
    "X_train.columns"
   ]
  },
  {
   "cell_type": "markdown",
   "metadata": {},
   "source": [
    "### Описание предобработки признаков"
   ]
  },
  {
   "cell_type": "markdown",
   "metadata": {},
   "source": [
    "1) Большая часть признаков содержала выражения yes\\no, поэтому эти выражения были заменены на 1\\0 и столбцы переведены в тип int\n",
    "2) Признаки type, payment_method и  internet_service были закодированы с помощью OHE \n",
    "3) Был создан новый признак days_with_operator, который показывал, сколько дней абонент сотрудничал с оператором\n",
    "4) Был создан целевой признак churn, который отражал факт ухода абонента от оператора\n",
    "5) Удалены лишние столбцы, которые не несли пользы для моделей: paperless_billing, gender, customer_id, begin_date, 'end_date"
   ]
  },
  {
   "cell_type": "markdown",
   "metadata": {},
   "source": [
    "## Общий вывод "
   ]
  },
  {
   "cell_type": "markdown",
   "metadata": {},
   "source": [
    "В рамках данного проекта была выполнена обширная работа по анализу данных и созданию модели для прогнозирования ухода абонентов оператора связи. \n",
    "\n",
    "Часть 1: Первичное исследование данных\n",
    "\n",
    "    Были загружены и проанализированы данные, что позволило выявить некоторые важные факты о поведении абонентов.\n",
    "\n",
    "    Отмечается отсутствие пропусков во всех датафреймах, что положительно сказывается на качестве данных.\n",
    "\n",
    "    Принято решение об удалении ненужных столбцов, что позволило улучшить производительность моделей машинного обучения.\n",
    "\n",
    "    Приведение названий столбцов к нижнему регистру сделало данные более удобными для обработки и согласованными.\n",
    "\n",
    "Часть 2: Предобработка данных и обучение моделей\n",
    "\n",
    "    В данной части проекта проведено объединение данных из нескольких DataFrame для более полного анализа.\n",
    "\n",
    "    Продолжено приведение названий столбцов к нижнему регистру, что обеспечивает единообразие и удобство работы с данными.\n",
    "\n",
    "    Произведено преобразование дат в соответствующий формат datetime для дальнейшего анализа.\n",
    "\n",
    "    Произведена бинарная классификация столбцов \"yes/no\", упрощая интерпретацию и повышая производительность моделей.\n",
    "\n",
    "    Изменен тип данных в столбцах с 1/0 на int для улучшения обработки и экономии памяти.\n",
    "\n",
    "    Созданы новые признаки, включая \"days_with_operator\" и целевой признак \"churn\".\n",
    "\n",
    "    Удалены избыточные столбцы, не влияющие на качество предсказаний.\n",
    "\n",
    "    Обучение моделей машинного обучения показало, что модель CatBoostClassifier демонстрирует наилучшие результаты с высокой ROC AUC (0.92) на тестовой выборке.\n",
    "\n",
    "    Матрица ошибок и метрики классификации подтвердили высокое качество классификации модели.\n",
    "\n",
    "    Выделены важные признаки, влияющие на прогнозирование ухода абонентов.\n",
    "\n",
    "**Исходя из результатов проекта, рекомендуется использовать модель CatBoostClassifier для прогнозирования ухода абонентов, так как она демонстрирует высокую эффективность и соответствует требованиям заказчика.**"
   ]
  }
 ],
 "metadata": {
  "ExecuteTimeLog": [
   {
    "duration": 55,
    "start_time": "2023-09-28T03:31:36.183Z"
   },
   {
    "duration": 410,
    "start_time": "2023-09-28T03:31:37.577Z"
   },
   {
    "duration": 3,
    "start_time": "2023-09-28T03:31:38.005Z"
   },
   {
    "duration": 3,
    "start_time": "2023-09-28T03:31:42.742Z"
   },
   {
    "duration": 179,
    "start_time": "2023-09-28T03:31:44.682Z"
   },
   {
    "duration": 153,
    "start_time": "2023-09-28T03:31:45.129Z"
   },
   {
    "duration": 3514,
    "start_time": "2023-09-28T03:31:45.403Z"
   },
   {
    "duration": 143,
    "start_time": "2023-09-28T03:31:48.918Z"
   },
   {
    "duration": 6,
    "start_time": "2023-09-28T03:31:54.790Z"
   },
   {
    "duration": 561,
    "start_time": "2023-09-28T03:31:55.104Z"
   },
   {
    "duration": 237,
    "start_time": "2023-09-28T03:31:57.482Z"
   },
   {
    "duration": 70,
    "start_time": "2023-09-28T03:31:58.655Z"
   },
   {
    "duration": 37,
    "start_time": "2023-09-28T03:32:00.290Z"
   },
   {
    "duration": 3886,
    "start_time": "2023-10-05T13:49:28.918Z"
   },
   {
    "duration": 4133,
    "start_time": "2023-10-05T13:49:32.806Z"
   },
   {
    "duration": 2374,
    "start_time": "2023-10-05T13:49:36.941Z"
   },
   {
    "duration": 2792,
    "start_time": "2023-10-05T13:49:42.367Z"
   },
   {
    "duration": 0,
    "start_time": "2023-10-05T13:49:45.160Z"
   },
   {
    "duration": 0,
    "start_time": "2023-10-05T13:49:45.162Z"
   },
   {
    "duration": 3,
    "start_time": "2023-10-05T13:49:53.522Z"
   },
   {
    "duration": 3,
    "start_time": "2023-10-05T13:49:57.896Z"
   },
   {
    "duration": 2,
    "start_time": "2023-10-05T13:49:58.129Z"
   },
   {
    "duration": 4,
    "start_time": "2023-10-05T13:49:59.792Z"
   },
   {
    "duration": 115,
    "start_time": "2023-10-05T13:50:00.565Z"
   },
   {
    "duration": 172,
    "start_time": "2023-10-05T13:50:00.899Z"
   },
   {
    "duration": 117,
    "start_time": "2023-10-05T13:50:01.473Z"
   },
   {
    "duration": 90,
    "start_time": "2023-10-05T13:50:01.673Z"
   },
   {
    "duration": 6,
    "start_time": "2023-10-05T13:50:03.570Z"
   },
   {
    "duration": 261,
    "start_time": "2023-10-05T13:50:06.549Z"
   },
   {
    "duration": 208,
    "start_time": "2023-10-05T13:50:09.123Z"
   },
   {
    "duration": 61,
    "start_time": "2023-10-05T13:50:09.904Z"
   },
   {
    "duration": 34,
    "start_time": "2023-10-05T13:50:10.708Z"
   },
   {
    "duration": 23,
    "start_time": "2023-10-05T13:50:15.682Z"
   },
   {
    "duration": 17,
    "start_time": "2023-10-05T13:50:15.856Z"
   },
   {
    "duration": 5,
    "start_time": "2023-10-05T13:50:16.904Z"
   },
   {
    "duration": 19,
    "start_time": "2023-10-05T13:50:19.028Z"
   },
   {
    "duration": 73,
    "start_time": "2023-10-05T13:50:20.491Z"
   },
   {
    "duration": 29,
    "start_time": "2023-10-05T13:50:21.342Z"
   },
   {
    "duration": 129,
    "start_time": "2023-10-05T13:50:23.764Z"
   },
   {
    "duration": 18,
    "start_time": "2023-10-05T13:50:25.461Z"
   },
   {
    "duration": 12,
    "start_time": "2023-10-05T13:50:27.000Z"
   },
   {
    "duration": 17,
    "start_time": "2023-10-05T13:50:28.783Z"
   },
   {
    "duration": 22,
    "start_time": "2023-10-05T13:50:45.471Z"
   },
   {
    "duration": 6,
    "start_time": "2023-10-05T13:50:51.782Z"
   },
   {
    "duration": 3,
    "start_time": "2023-10-05T13:50:53.033Z"
   },
   {
    "duration": 273089,
    "start_time": "2023-10-05T13:51:49.537Z"
   },
   {
    "duration": 10,
    "start_time": "2023-10-05T13:56:30.322Z"
   },
   {
    "duration": 206620,
    "start_time": "2023-10-05T13:56:37.082Z"
   },
   {
    "duration": 4,
    "start_time": "2023-10-05T14:00:50.362Z"
   },
   {
    "duration": 47266,
    "start_time": "2023-10-05T14:00:51.678Z"
   },
   {
    "duration": 3,
    "start_time": "2023-10-05T14:01:53.880Z"
   },
   {
    "duration": 48454,
    "start_time": "2023-10-05T14:01:56.323Z"
   },
   {
    "duration": 3,
    "start_time": "2023-10-05T14:04:21.671Z"
   },
   {
    "duration": 42635,
    "start_time": "2023-10-05T14:04:23.794Z"
   },
   {
    "duration": 4,
    "start_time": "2023-10-05T14:05:18.832Z"
   },
   {
    "duration": 14,
    "start_time": "2023-10-05T14:05:21.822Z"
   },
   {
    "duration": 4,
    "start_time": "2023-10-05T14:08:05.192Z"
   },
   {
    "duration": 14,
    "start_time": "2023-10-05T14:08:07.772Z"
   },
   {
    "duration": 4,
    "start_time": "2023-10-05T14:08:14.522Z"
   },
   {
    "duration": 207928,
    "start_time": "2023-10-05T14:08:16.822Z"
   },
   {
    "duration": 3,
    "start_time": "2023-10-05T14:11:56.462Z"
   },
   {
    "duration": 24358,
    "start_time": "2023-10-05T14:11:58.855Z"
   },
   {
    "duration": 3,
    "start_time": "2023-10-05T14:12:32.619Z"
   },
   {
    "duration": 24015,
    "start_time": "2023-10-05T14:12:33.529Z"
   },
   {
    "duration": 4,
    "start_time": "2023-10-05T14:16:39.190Z"
   },
   {
    "duration": 21665,
    "start_time": "2023-10-05T14:16:41.882Z"
   },
   {
    "duration": 4,
    "start_time": "2023-10-05T14:17:15.068Z"
   },
   {
    "duration": 3,
    "start_time": "2023-10-05T14:17:17.102Z"
   },
   {
    "duration": 22119,
    "start_time": "2023-10-05T14:17:17.263Z"
   },
   {
    "duration": 4,
    "start_time": "2023-10-05T14:18:24.019Z"
   },
   {
    "duration": 21660,
    "start_time": "2023-10-05T14:18:26.528Z"
   },
   {
    "duration": 4,
    "start_time": "2023-10-05T14:18:50.244Z"
   },
   {
    "duration": 13,
    "start_time": "2023-10-05T14:18:53.359Z"
   },
   {
    "duration": 4,
    "start_time": "2023-10-05T14:19:25.831Z"
   },
   {
    "duration": 3,
    "start_time": "2023-10-05T14:19:28.299Z"
   },
   {
    "duration": 24040,
    "start_time": "2023-10-05T14:19:28.845Z"
   },
   {
    "duration": 4,
    "start_time": "2023-10-05T14:23:12.120Z"
   },
   {
    "duration": 23402,
    "start_time": "2023-10-05T14:23:14.047Z"
   },
   {
    "duration": 3132,
    "start_time": "2023-10-05T14:27:18.658Z"
   },
   {
    "duration": 0,
    "start_time": "2023-10-05T14:27:21.792Z"
   },
   {
    "duration": 0,
    "start_time": "2023-10-05T14:27:21.793Z"
   },
   {
    "duration": 4,
    "start_time": "2023-10-05T14:27:27.073Z"
   },
   {
    "duration": 3,
    "start_time": "2023-10-05T14:27:32.877Z"
   },
   {
    "duration": 3,
    "start_time": "2023-10-05T14:27:33.100Z"
   },
   {
    "duration": 4,
    "start_time": "2023-10-05T14:27:33.968Z"
   },
   {
    "duration": 110,
    "start_time": "2023-10-05T14:27:34.391Z"
   },
   {
    "duration": 101,
    "start_time": "2023-10-05T14:27:34.906Z"
   },
   {
    "duration": 84,
    "start_time": "2023-10-05T14:27:35.449Z"
   },
   {
    "duration": 92,
    "start_time": "2023-10-05T14:27:35.535Z"
   },
   {
    "duration": 5,
    "start_time": "2023-10-05T14:27:35.629Z"
   },
   {
    "duration": 291,
    "start_time": "2023-10-05T14:27:35.635Z"
   },
   {
    "duration": 227,
    "start_time": "2023-10-05T14:27:35.928Z"
   },
   {
    "duration": 59,
    "start_time": "2023-10-05T14:27:36.156Z"
   },
   {
    "duration": 112,
    "start_time": "2023-10-05T14:27:36.216Z"
   },
   {
    "duration": 23,
    "start_time": "2023-10-05T14:27:39.194Z"
   },
   {
    "duration": 18,
    "start_time": "2023-10-05T14:27:39.358Z"
   },
   {
    "duration": 5,
    "start_time": "2023-10-05T14:27:40.217Z"
   },
   {
    "duration": 15,
    "start_time": "2023-10-05T14:27:41.565Z"
   },
   {
    "duration": 78,
    "start_time": "2023-10-05T14:27:42.279Z"
   },
   {
    "duration": 33,
    "start_time": "2023-10-05T14:27:43.200Z"
   },
   {
    "duration": 124,
    "start_time": "2023-10-05T14:27:45.060Z"
   },
   {
    "duration": 18,
    "start_time": "2023-10-05T14:27:46.001Z"
   },
   {
    "duration": 13,
    "start_time": "2023-10-05T14:27:46.854Z"
   },
   {
    "duration": 17,
    "start_time": "2023-10-05T14:27:47.957Z"
   },
   {
    "duration": 18,
    "start_time": "2023-10-05T14:27:52.849Z"
   },
   {
    "duration": 9,
    "start_time": "2023-10-05T14:28:00.018Z"
   },
   {
    "duration": 4,
    "start_time": "2023-10-05T14:28:02.709Z"
   },
   {
    "duration": 24774,
    "start_time": "2023-10-05T14:28:03.817Z"
   },
   {
    "duration": 3,
    "start_time": "2023-10-05T14:28:44.385Z"
   },
   {
    "duration": 22396,
    "start_time": "2023-10-05T14:28:45.497Z"
   },
   {
    "duration": 3,
    "start_time": "2023-10-05T14:29:27.516Z"
   },
   {
    "duration": 25707,
    "start_time": "2023-10-05T14:29:28.529Z"
   },
   {
    "duration": 2,
    "start_time": "2023-10-05T14:29:56.957Z"
   },
   {
    "duration": 24212,
    "start_time": "2023-10-05T14:29:57.153Z"
   },
   {
    "duration": 3,
    "start_time": "2023-10-05T14:32:22.905Z"
   },
   {
    "duration": 2,
    "start_time": "2023-10-05T14:32:24.535Z"
   },
   {
    "duration": 22981,
    "start_time": "2023-10-05T14:32:24.745Z"
   },
   {
    "duration": 2,
    "start_time": "2023-10-05T14:32:51.685Z"
   },
   {
    "duration": 23960,
    "start_time": "2023-10-05T14:32:58.269Z"
   },
   {
    "duration": 3,
    "start_time": "2023-10-05T14:33:22.231Z"
   },
   {
    "duration": 3,
    "start_time": "2023-10-05T14:33:23.715Z"
   },
   {
    "duration": 21691,
    "start_time": "2023-10-05T14:33:24.014Z"
   },
   {
    "duration": 4,
    "start_time": "2023-10-05T14:35:20.854Z"
   },
   {
    "duration": 3,
    "start_time": "2023-10-05T14:35:22.353Z"
   },
   {
    "duration": 3,
    "start_time": "2023-10-05T14:35:22.693Z"
   },
   {
    "duration": 53980,
    "start_time": "2023-10-05T14:35:23.187Z"
   },
   {
    "duration": 4,
    "start_time": "2023-10-05T14:36:27.262Z"
   },
   {
    "duration": 3,
    "start_time": "2023-10-05T14:36:32.433Z"
   },
   {
    "duration": 275,
    "start_time": "2023-10-05T14:36:32.586Z"
   },
   {
    "duration": 84688,
    "start_time": "2023-10-05T14:36:33.390Z"
   },
   {
    "duration": 4,
    "start_time": "2023-10-05T14:37:58.081Z"
   },
   {
    "duration": 3,
    "start_time": "2023-10-05T14:39:41.761Z"
   },
   {
    "duration": 86604,
    "start_time": "2023-10-05T14:39:41.958Z"
   },
   {
    "duration": 1469,
    "start_time": "2023-10-05T14:41:53.824Z"
   },
   {
    "duration": 2741,
    "start_time": "2023-10-05T14:42:35.550Z"
   },
   {
    "duration": 3,
    "start_time": "2023-10-05T14:42:38.293Z"
   },
   {
    "duration": 20,
    "start_time": "2023-10-05T14:42:38.297Z"
   },
   {
    "duration": 4,
    "start_time": "2023-10-05T14:42:41.087Z"
   },
   {
    "duration": 118,
    "start_time": "2023-10-05T14:42:41.238Z"
   },
   {
    "duration": 106,
    "start_time": "2023-10-05T14:42:41.363Z"
   },
   {
    "duration": 98,
    "start_time": "2023-10-05T14:42:41.510Z"
   },
   {
    "duration": 108,
    "start_time": "2023-10-05T14:42:41.663Z"
   },
   {
    "duration": 9,
    "start_time": "2023-10-05T14:42:41.892Z"
   },
   {
    "duration": 289,
    "start_time": "2023-10-05T14:42:42.022Z"
   },
   {
    "duration": 271,
    "start_time": "2023-10-05T14:42:42.313Z"
   },
   {
    "duration": 97,
    "start_time": "2023-10-05T14:42:42.587Z"
   },
   {
    "duration": 52,
    "start_time": "2023-10-05T14:42:42.819Z"
   },
   {
    "duration": 24,
    "start_time": "2023-10-05T14:42:45.078Z"
   },
   {
    "duration": 16,
    "start_time": "2023-10-05T14:42:45.276Z"
   },
   {
    "duration": 5,
    "start_time": "2023-10-05T14:42:46.399Z"
   },
   {
    "duration": 21,
    "start_time": "2023-10-05T14:42:47.199Z"
   },
   {
    "duration": 80,
    "start_time": "2023-10-05T14:42:47.397Z"
   },
   {
    "duration": 31,
    "start_time": "2023-10-05T14:42:48.159Z"
   },
   {
    "duration": 134,
    "start_time": "2023-10-05T14:42:49.192Z"
   },
   {
    "duration": 21,
    "start_time": "2023-10-05T14:42:50.231Z"
   },
   {
    "duration": 14,
    "start_time": "2023-10-05T14:42:50.917Z"
   },
   {
    "duration": 19,
    "start_time": "2023-10-05T14:42:57.580Z"
   },
   {
    "duration": 7,
    "start_time": "2023-10-05T14:43:10.576Z"
   },
   {
    "duration": 4,
    "start_time": "2023-10-05T14:43:11.933Z"
   },
   {
    "duration": 2618,
    "start_time": "2023-10-05T14:44:33.551Z"
   },
   {
    "duration": 2,
    "start_time": "2023-10-05T14:44:36.171Z"
   },
   {
    "duration": 28,
    "start_time": "2023-10-05T14:44:36.175Z"
   },
   {
    "duration": 6,
    "start_time": "2023-10-05T14:44:39.064Z"
   },
   {
    "duration": 180,
    "start_time": "2023-10-05T14:44:39.281Z"
   },
   {
    "duration": 124,
    "start_time": "2023-10-05T14:44:39.467Z"
   },
   {
    "duration": 120,
    "start_time": "2023-10-05T14:44:39.677Z"
   },
   {
    "duration": 116,
    "start_time": "2023-10-05T14:44:39.867Z"
   },
   {
    "duration": 7,
    "start_time": "2023-10-05T14:44:40.187Z"
   },
   {
    "duration": 280,
    "start_time": "2023-10-05T14:44:40.343Z"
   },
   {
    "duration": 244,
    "start_time": "2023-10-05T14:44:40.927Z"
   },
   {
    "duration": 66,
    "start_time": "2023-10-05T14:44:41.242Z"
   },
   {
    "duration": 39,
    "start_time": "2023-10-05T14:44:41.587Z"
   },
   {
    "duration": 26,
    "start_time": "2023-10-05T14:44:43.702Z"
   },
   {
    "duration": 19,
    "start_time": "2023-10-05T14:44:43.835Z"
   },
   {
    "duration": 5,
    "start_time": "2023-10-05T14:44:44.597Z"
   },
   {
    "duration": 16,
    "start_time": "2023-10-05T14:44:45.167Z"
   },
   {
    "duration": 81,
    "start_time": "2023-10-05T14:44:45.413Z"
   },
   {
    "duration": 29,
    "start_time": "2023-10-05T14:44:46.059Z"
   },
   {
    "duration": 133,
    "start_time": "2023-10-05T14:44:46.371Z"
   },
   {
    "duration": 18,
    "start_time": "2023-10-05T14:44:47.292Z"
   },
   {
    "duration": 13,
    "start_time": "2023-10-05T14:44:48.161Z"
   },
   {
    "duration": 18,
    "start_time": "2023-10-05T14:44:53.515Z"
   },
   {
    "duration": 7,
    "start_time": "2023-10-05T14:44:58.277Z"
   },
   {
    "duration": 12,
    "start_time": "2023-10-05T14:44:59.440Z"
   },
   {
    "duration": 5,
    "start_time": "2023-10-05T14:45:01.553Z"
   },
   {
    "duration": 85270,
    "start_time": "2023-10-05T14:45:02.409Z"
   },
   {
    "duration": 3030,
    "start_time": "2023-10-05T14:47:02.452Z"
   },
   {
    "duration": 3,
    "start_time": "2023-10-05T14:47:05.484Z"
   },
   {
    "duration": 37,
    "start_time": "2023-10-05T14:47:05.488Z"
   },
   {
    "duration": 4,
    "start_time": "2023-10-05T14:47:08.101Z"
   },
   {
    "duration": 147,
    "start_time": "2023-10-05T14:47:08.301Z"
   },
   {
    "duration": 127,
    "start_time": "2023-10-05T14:47:08.450Z"
   },
   {
    "duration": 275,
    "start_time": "2023-10-05T14:47:08.578Z"
   },
   {
    "duration": 126,
    "start_time": "2023-10-05T14:47:08.855Z"
   },
   {
    "duration": 8,
    "start_time": "2023-10-05T14:47:08.984Z"
   },
   {
    "duration": 299,
    "start_time": "2023-10-05T14:47:09.071Z"
   },
   {
    "duration": 256,
    "start_time": "2023-10-05T14:47:09.372Z"
   },
   {
    "duration": 82,
    "start_time": "2023-10-05T14:47:09.674Z"
   },
   {
    "duration": 44,
    "start_time": "2023-10-05T14:47:09.866Z"
   },
   {
    "duration": 31,
    "start_time": "2023-10-05T14:47:12.245Z"
   },
   {
    "duration": 17,
    "start_time": "2023-10-05T14:47:12.385Z"
   },
   {
    "duration": 6,
    "start_time": "2023-10-05T14:47:13.272Z"
   },
   {
    "duration": 27,
    "start_time": "2023-10-05T14:47:14.170Z"
   },
   {
    "duration": 105,
    "start_time": "2023-10-05T14:47:14.322Z"
   },
   {
    "duration": 38,
    "start_time": "2023-10-05T14:47:15.762Z"
   },
   {
    "duration": 138,
    "start_time": "2023-10-05T14:47:16.373Z"
   },
   {
    "duration": 37,
    "start_time": "2023-10-05T14:47:17.028Z"
   },
   {
    "duration": 16,
    "start_time": "2023-10-05T14:47:17.635Z"
   },
   {
    "duration": 20,
    "start_time": "2023-10-05T14:47:23.093Z"
   },
   {
    "duration": 6,
    "start_time": "2023-10-05T14:47:27.455Z"
   },
   {
    "duration": 3,
    "start_time": "2023-10-05T14:47:28.502Z"
   },
   {
    "duration": 3,
    "start_time": "2023-10-05T14:47:30.169Z"
   },
   {
    "duration": 90307,
    "start_time": "2023-10-05T14:47:31.340Z"
   }
  ],
  "kernelspec": {
   "display_name": "Python 3 (ipykernel)",
   "language": "python",
   "name": "python3"
  },
  "language_info": {
   "codemirror_mode": {
    "name": "ipython",
    "version": 3
   },
   "file_extension": ".py",
   "mimetype": "text/x-python",
   "name": "python",
   "nbconvert_exporter": "python",
   "pygments_lexer": "ipython3",
   "version": "3.9.18"
  },
  "toc": {
   "base_numbering": 1,
   "nav_menu": {
    "height": "650.931px",
    "width": "868.931px"
   },
   "number_sections": true,
   "sideBar": true,
   "skip_h1_title": true,
   "title_cell": "Table of Contents",
   "title_sidebar": "Contents",
   "toc_cell": false,
   "toc_position": {},
   "toc_section_display": true,
   "toc_window_display": false
  }
 },
 "nbformat": 4,
 "nbformat_minor": 4
}
